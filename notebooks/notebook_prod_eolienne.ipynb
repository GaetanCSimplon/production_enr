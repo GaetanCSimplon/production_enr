{
 "cells": [
  {
   "cell_type": "markdown",
   "id": "1e3c916e",
   "metadata": {},
   "source": [
    "# Production éolienne"
   ]
  },
  {
   "cell_type": "markdown",
   "id": "fbb1e389",
   "metadata": {},
   "source": [
    "## Import des librairies"
   ]
  },
  {
   "cell_type": "code",
   "execution_count": 24,
   "id": "32332b4f",
   "metadata": {},
   "outputs": [],
   "source": [
    "import pandas as pd\n",
    "import numpy as np\n",
    "import requests\n",
    "from datetime import date, datetime, timezone"
   ]
  },
  {
   "cell_type": "markdown",
   "id": "9cd51d6d",
   "metadata": {},
   "source": [
    "## Chargement des données - prod_eolienne.csv\n",
    "\n",
    "- prod_eolienne.csv"
   ]
  },
  {
   "cell_type": "code",
   "execution_count": 25,
   "id": "1a7facf7",
   "metadata": {},
   "outputs": [
    {
     "data": {
      "application/vnd.microsoft.datawrangler.viewer.v0+json": {
       "columns": [
        {
         "name": "index",
         "rawType": "object",
         "type": "string"
        },
        {
         "name": "0",
         "rawType": "object",
         "type": "unknown"
        }
       ],
       "ref": "c14ad3d2-6f47-49e1-9f3d-438cc4ec23ba",
       "rows": [
        [
         "date",
         "object"
        ],
        [
         "prod_eolienne",
         "float64"
        ]
       ],
       "shape": {
        "columns": 1,
        "rows": 2
       }
      },
      "text/plain": [
       "date              object\n",
       "prod_eolienne    float64\n",
       "dtype: object"
      ]
     },
     "metadata": {},
     "output_type": "display_data"
    },
    {
     "data": {
      "application/vnd.microsoft.datawrangler.viewer.v0+json": {
       "columns": [
        {
         "name": "index",
         "rawType": "int64",
         "type": "integer"
        },
        {
         "name": "date",
         "rawType": "object",
         "type": "string"
        },
        {
         "name": "prod_eolienne",
         "rawType": "float64",
         "type": "float"
        }
       ],
       "ref": "dbefe1de-7402-492e-9b46-dfe3b3d07556",
       "rows": [
        [
         "0",
         "2016-09-01",
         "100.0"
        ],
        [
         "1",
         "2016-09-02",
         "100.0"
        ],
        [
         "2",
         "2016-09-03",
         "100.0"
        ],
        [
         "3",
         "2016-09-04",
         "96.84412018939663"
        ],
        [
         "4",
         "2016-09-05",
         "97.08842400840764"
        ],
        [
         "5",
         "2016-09-06",
         "97.2594859350378"
        ],
        [
         "6",
         "2016-09-07",
         "100.0"
        ],
        [
         "7",
         "2016-09-08",
         "100.0"
        ],
        [
         "8",
         "2016-09-09",
         "93.07383769429995"
        ],
        [
         "9",
         "2016-09-10",
         "73.61662455565666"
        ],
        [
         "10",
         "2016-09-11",
         "63.33513967643556"
        ],
        [
         "11",
         "2016-09-12",
         "72.93740851279412"
        ],
        [
         "12",
         "2016-09-13",
         "81.78207277365398"
        ],
        [
         "13",
         "2016-09-14",
         "81.50761020758438"
        ],
        [
         "14",
         "2016-09-15",
         "81.88057364776995"
        ],
        [
         "15",
         "2016-09-16",
         "85.62953896571604"
        ],
        [
         "16",
         "2016-09-17",
         "59.940677276001225"
        ],
        [
         "17",
         "2016-09-18",
         "41.958474093200856"
        ],
        [
         "18",
         "2016-09-19",
         "29.3709318652406"
        ],
        [
         "19",
         "2016-09-20",
         "46.32274120166254"
        ],
        [
         "20",
         "2016-09-21",
         "49.31349833307111"
        ],
        [
         "21",
         "2016-09-26",
         "65.38695374616373"
        ],
        [
         "22",
         "2016-09-27",
         "61.7564702698762"
        ],
        [
         "23",
         "2016-09-28",
         "65.92118075503531"
        ],
        [
         "24",
         "2016-09-29",
         "57.26531533182966"
        ],
        [
         "25",
         "2016-09-30",
         "69.21063948290093"
        ],
        [
         "26",
         "2016-10-01",
         "76.64232780134245"
        ],
        [
         "27",
         "2016-10-02",
         "57.26325738741665"
        ],
        [
         "28",
         "2016-10-03",
         "68.09054362495047"
        ],
        [
         "29",
         "2016-10-04",
         "65.1266775055399"
        ],
        [
         "30",
         "2016-10-05",
         "58.983822712309575"
        ],
        [
         "31",
         "2016-10-06",
         "46.97756921343549"
        ],
        [
         "32",
         "2016-10-07",
         "43.89743564384487"
        ],
        [
         "33",
         "2016-10-08",
         "54.84919457905208"
        ],
        [
         "34",
         "2016-10-09",
         "64.40987805864117"
        ],
        [
         "35",
         "2016-10-10",
         "75.67749834865619"
        ],
        [
         "36",
         "2016-10-11",
         "85.18964858404556"
        ],
        [
         "37",
         "2016-10-12",
         "90.1468588524018"
        ],
        [
         "38",
         "2016-10-13",
         "63.10280119668126"
        ],
        [
         "39",
         "2016-10-14",
         "73.26864975090902"
        ],
        [
         "40",
         "2016-10-15",
         "58.49024672744836"
        ],
        [
         "41",
         "2016-10-16",
         "68.78364008402971"
        ],
        [
         "42",
         "2016-10-17",
         "61.04470451145772"
        ],
        [
         "43",
         "2016-10-18",
         "66.02860418610305"
        ],
        [
         "44",
         "2016-10-19",
         "77.25087779897751"
        ],
        [
         "45",
         "2016-10-20",
         "78.78649399319605"
        ],
        [
         "46",
         "2016-10-21",
         "86.12279770342161"
        ],
        [
         "47",
         "2016-10-22",
         "89.13071155114616"
        ],
        [
         "48",
         "2016-10-23",
         "62.39149808580231"
        ],
        [
         "49",
         "2016-10-24",
         "43.674048660061615"
        ]
       ],
       "shape": {
        "columns": 2,
        "rows": 3308
       }
      },
      "text/html": [
       "<div>\n",
       "<style scoped>\n",
       "    .dataframe tbody tr th:only-of-type {\n",
       "        vertical-align: middle;\n",
       "    }\n",
       "\n",
       "    .dataframe tbody tr th {\n",
       "        vertical-align: top;\n",
       "    }\n",
       "\n",
       "    .dataframe thead th {\n",
       "        text-align: right;\n",
       "    }\n",
       "</style>\n",
       "<table border=\"1\" class=\"dataframe\">\n",
       "  <thead>\n",
       "    <tr style=\"text-align: right;\">\n",
       "      <th></th>\n",
       "      <th>date</th>\n",
       "      <th>prod_eolienne</th>\n",
       "    </tr>\n",
       "  </thead>\n",
       "  <tbody>\n",
       "    <tr>\n",
       "      <th>0</th>\n",
       "      <td>2016-09-01</td>\n",
       "      <td>100.000000</td>\n",
       "    </tr>\n",
       "    <tr>\n",
       "      <th>1</th>\n",
       "      <td>2016-09-02</td>\n",
       "      <td>100.000000</td>\n",
       "    </tr>\n",
       "    <tr>\n",
       "      <th>2</th>\n",
       "      <td>2016-09-03</td>\n",
       "      <td>100.000000</td>\n",
       "    </tr>\n",
       "    <tr>\n",
       "      <th>3</th>\n",
       "      <td>2016-09-04</td>\n",
       "      <td>96.844120</td>\n",
       "    </tr>\n",
       "    <tr>\n",
       "      <th>4</th>\n",
       "      <td>2016-09-05</td>\n",
       "      <td>97.088424</td>\n",
       "    </tr>\n",
       "    <tr>\n",
       "      <th>...</th>\n",
       "      <td>...</td>\n",
       "      <td>...</td>\n",
       "    </tr>\n",
       "    <tr>\n",
       "      <th>3303</th>\n",
       "      <td>2025-09-25</td>\n",
       "      <td>72.259819</td>\n",
       "    </tr>\n",
       "    <tr>\n",
       "      <th>3304</th>\n",
       "      <td>2025-09-26</td>\n",
       "      <td>52.211649</td>\n",
       "    </tr>\n",
       "    <tr>\n",
       "      <th>3305</th>\n",
       "      <td>2025-09-27</td>\n",
       "      <td>38.421115</td>\n",
       "    </tr>\n",
       "    <tr>\n",
       "      <th>3306</th>\n",
       "      <td>2025-09-28</td>\n",
       "      <td>55.810392</td>\n",
       "    </tr>\n",
       "    <tr>\n",
       "      <th>3307</th>\n",
       "      <td>2025-09-29</td>\n",
       "      <td>70.316613</td>\n",
       "    </tr>\n",
       "  </tbody>\n",
       "</table>\n",
       "<p>3308 rows × 2 columns</p>\n",
       "</div>"
      ],
      "text/plain": [
       "            date  prod_eolienne\n",
       "0     2016-09-01     100.000000\n",
       "1     2016-09-02     100.000000\n",
       "2     2016-09-03     100.000000\n",
       "3     2016-09-04      96.844120\n",
       "4     2016-09-05      97.088424\n",
       "...          ...            ...\n",
       "3303  2025-09-25      72.259819\n",
       "3304  2025-09-26      52.211649\n",
       "3305  2025-09-27      38.421115\n",
       "3306  2025-09-28      55.810392\n",
       "3307  2025-09-29      70.316613\n",
       "\n",
       "[3308 rows x 2 columns]"
      ]
     },
     "metadata": {},
     "output_type": "display_data"
    }
   ],
   "source": [
    "df = pd.read_csv('/home/gaetansimplon/production_enr/data/prod_eolienne.csv')\n",
    "display(df.dtypes)\n",
    "display(df)\n"
   ]
  },
  {
   "cell_type": "markdown",
   "id": "7447cf0f",
   "metadata": {},
   "source": [
    "## En résumé du datasets\n",
    "- 3308 entrées\n",
    "- 2 colonnes \n"
   ]
  },
  {
   "cell_type": "code",
   "execution_count": 26,
   "id": "a5933f88",
   "metadata": {},
   "outputs": [
    {
     "data": {
      "application/vnd.microsoft.datawrangler.viewer.v0+json": {
       "columns": [
        {
         "name": "index",
         "rawType": "object",
         "type": "string"
        },
        {
         "name": "0",
         "rawType": "object",
         "type": "unknown"
        }
       ],
       "ref": "c70171f6-86a4-40a9-b580-36ea60abaca8",
       "rows": [
        [
         "date",
         "object"
        ],
        [
         "prod_eolienne",
         "float64"
        ]
       ],
       "shape": {
        "columns": 1,
        "rows": 2
       }
      },
      "text/plain": [
       "date              object\n",
       "prod_eolienne    float64\n",
       "dtype: object"
      ]
     },
     "metadata": {},
     "output_type": "display_data"
    },
    {
     "data": {
      "application/vnd.microsoft.datawrangler.viewer.v0+json": {
       "columns": [
        {
         "name": "index",
         "rawType": "object",
         "type": "string"
        },
        {
         "name": "prod_eolienne",
         "rawType": "float64",
         "type": "float"
        }
       ],
       "ref": "b2ca98f8-f5a5-4c2d-bca2-040179e9f1d4",
       "rows": [
        [
         "count",
         "3308.0"
        ],
        [
         "mean",
         "60.26173977201655"
        ],
        [
         "std",
         "27.466505330198185"
        ],
        [
         "min",
         "-48.99760076569133"
        ],
        [
         "25%",
         "44.321585195301964"
        ],
        [
         "50%",
         "61.73079379824004"
        ],
        [
         "75%",
         "76.85986944997983"
        ],
        [
         "max",
         "833.5169844120599"
        ]
       ],
       "shape": {
        "columns": 1,
        "rows": 8
       }
      },
      "text/html": [
       "<div>\n",
       "<style scoped>\n",
       "    .dataframe tbody tr th:only-of-type {\n",
       "        vertical-align: middle;\n",
       "    }\n",
       "\n",
       "    .dataframe tbody tr th {\n",
       "        vertical-align: top;\n",
       "    }\n",
       "\n",
       "    .dataframe thead th {\n",
       "        text-align: right;\n",
       "    }\n",
       "</style>\n",
       "<table border=\"1\" class=\"dataframe\">\n",
       "  <thead>\n",
       "    <tr style=\"text-align: right;\">\n",
       "      <th></th>\n",
       "      <th>prod_eolienne</th>\n",
       "    </tr>\n",
       "  </thead>\n",
       "  <tbody>\n",
       "    <tr>\n",
       "      <th>count</th>\n",
       "      <td>3308.000000</td>\n",
       "    </tr>\n",
       "    <tr>\n",
       "      <th>mean</th>\n",
       "      <td>60.261740</td>\n",
       "    </tr>\n",
       "    <tr>\n",
       "      <th>std</th>\n",
       "      <td>27.466505</td>\n",
       "    </tr>\n",
       "    <tr>\n",
       "      <th>min</th>\n",
       "      <td>-48.997601</td>\n",
       "    </tr>\n",
       "    <tr>\n",
       "      <th>25%</th>\n",
       "      <td>44.321585</td>\n",
       "    </tr>\n",
       "    <tr>\n",
       "      <th>50%</th>\n",
       "      <td>61.730794</td>\n",
       "    </tr>\n",
       "    <tr>\n",
       "      <th>75%</th>\n",
       "      <td>76.859869</td>\n",
       "    </tr>\n",
       "    <tr>\n",
       "      <th>max</th>\n",
       "      <td>833.516984</td>\n",
       "    </tr>\n",
       "  </tbody>\n",
       "</table>\n",
       "</div>"
      ],
      "text/plain": [
       "       prod_eolienne\n",
       "count    3308.000000\n",
       "mean       60.261740\n",
       "std        27.466505\n",
       "min       -48.997601\n",
       "25%        44.321585\n",
       "50%        61.730794\n",
       "75%        76.859869\n",
       "max       833.516984"
      ]
     },
     "metadata": {},
     "output_type": "display_data"
    }
   ],
   "source": [
    "display(df.dtypes)\n",
    "display(df.describe())\n"
   ]
  },
  {
   "cell_type": "markdown",
   "id": "7d79cfad",
   "metadata": {},
   "source": [
    "### Valeurs manquantes et aberrantes"
   ]
  },
  {
   "cell_type": "code",
   "execution_count": 27,
   "id": "c753e936",
   "metadata": {},
   "outputs": [
    {
     "data": {
      "application/vnd.microsoft.datawrangler.viewer.v0+json": {
       "columns": [
        {
         "name": "index",
         "rawType": "object",
         "type": "string"
        },
        {
         "name": "0",
         "rawType": "int64",
         "type": "integer"
        }
       ],
       "ref": "324f7423-9b05-45f3-9da7-d4bfe8ddcd46",
       "rows": [
        [
         "date",
         "0"
        ],
        [
         "prod_eolienne",
         "0"
        ]
       ],
       "shape": {
        "columns": 1,
        "rows": 2
       }
      },
      "text/plain": [
       "date             0\n",
       "prod_eolienne    0\n",
       "dtype: int64"
      ]
     },
     "metadata": {},
     "output_type": "display_data"
    },
    {
     "data": {
      "text/plain": [
       "-48.99760076569133"
      ]
     },
     "metadata": {},
     "output_type": "display_data"
    },
    {
     "data": {
      "application/vnd.microsoft.datawrangler.viewer.v0+json": {
       "columns": [
        {
         "name": "index",
         "rawType": "int64",
         "type": "integer"
        },
        {
         "name": "date",
         "rawType": "object",
         "type": "string"
        },
        {
         "name": "prod_eolienne",
         "rawType": "float64",
         "type": "float"
        }
       ],
       "ref": "89dd5dbc-601f-4455-b9d1-7c7df591f329",
       "rows": [
        [
         "2794",
         "2024-05-04",
         "-48.99760076569133"
        ],
        [
         "2354",
         "2023-02-19",
         "7.077902853954119"
        ],
        [
         "3262",
         "2025-08-15",
         "7.656243024268741"
        ],
        [
         "2353",
         "2023-02-18",
         "8.626531428732912"
        ],
        [
         "3261",
         "2025-08-14",
         "9.223880126322667"
        ],
        [
         "3036",
         "2025-01-01",
         "9.35738367794244"
        ],
        [
         "2587",
         "2023-10-10",
         "9.409431767655215"
        ],
        [
         "2352",
         "2023-02-17",
         "9.748582864026632"
        ],
        [
         "2586",
         "2023-10-09",
         "9.818138446897892"
        ],
        [
         "2561",
         "2023-09-14",
         "10.0629376267052"
        ],
        [
         "2589",
         "2023-10-12",
         "10.140606082330894"
        ],
        [
         "2588",
         "2023-10-11",
         "10.349179274843117"
        ],
        [
         "2357",
         "2023-02-22",
         "10.8977122643736"
        ],
        [
         "3260",
         "2025-08-13",
         "10.927689454316036"
        ],
        [
         "2355",
         "2023-02-20",
         "11.020825107359602"
        ],
        [
         "3201",
         "2025-06-15",
         "11.04552268615395"
        ],
        [
         "3035",
         "2024-12-31",
         "11.104017058753117"
        ],
        [
         "2356",
         "2023-02-21",
         "11.228603802516924"
        ],
        [
         "3297",
         "2025-09-19",
         "11.377554844239576"
        ],
        [
         "2558",
         "2023-09-11",
         "11.683855025470455"
        ],
        [
         "2584",
         "2023-10-07",
         "11.725873485622188"
        ],
        [
         "2585",
         "2023-10-08",
         "11.733965796486636"
        ],
        [
         "3218",
         "2025-07-02",
         "12.083895706422402"
        ],
        [
         "638",
         "2018-06-08",
         "12.583963882347692"
        ],
        [
         "389",
         "2017-09-30",
         "12.61568377198824"
        ],
        [
         "2351",
         "2023-02-16",
         "12.768855962998732"
        ],
        [
         "3164",
         "2025-05-09",
         "12.885022891210037"
        ],
        [
         "3219",
         "2025-07-03",
         "12.964870639623072"
        ],
        [
         "3259",
         "2025-08-12",
         "13.032071096240522"
        ],
        [
         "634",
         "2018-06-04",
         "13.150459588467118"
        ],
        [
         "392",
         "2017-10-03",
         "13.259297135907453"
        ],
        [
         "3298",
         "2025-09-20",
         "13.381987052913148"
        ],
        [
         "3210",
         "2025-06-24",
         "13.423565111008198"
        ],
        [
         "2668",
         "2023-12-30",
         "13.614910351262328"
        ],
        [
         "2707",
         "2024-02-07",
         "13.688352490858668"
        ],
        [
         "3163",
         "2025-05-08",
         "13.755639087414291"
        ],
        [
         "1146",
         "2019-10-30",
         "13.933909883562862"
        ],
        [
         "1149",
         "2019-11-02",
         "13.93589677727036"
        ],
        [
         "1942",
         "2022-01-03",
         "13.97629511028183"
        ],
        [
         "2583",
         "2023-10-06",
         "14.02013653547716"
        ],
        [
         "403",
         "2017-10-14",
         "14.071755164899129"
        ],
        [
         "3200",
         "2025-06-14",
         "14.12039346921699"
        ],
        [
         "2460",
         "2023-06-05",
         "14.127601147435248"
        ],
        [
         "2560",
         "2023-09-13",
         "14.140475303609112"
        ],
        [
         "3209",
         "2025-06-23",
         "14.213291298234187"
        ],
        [
         "2557",
         "2023-09-10",
         "14.221502258957404"
        ],
        [
         "2750",
         "2024-03-21",
         "14.238631931435847"
        ],
        [
         "3037",
         "2025-01-02",
         "14.347376784268288"
        ],
        [
         "2706",
         "2024-02-06",
         "14.418552538582391"
        ],
        [
         "3296",
         "2025-09-18",
         "14.497876608457627"
        ]
       ],
       "shape": {
        "columns": 2,
        "rows": 3308
       }
      },
      "text/html": [
       "<div>\n",
       "<style scoped>\n",
       "    .dataframe tbody tr th:only-of-type {\n",
       "        vertical-align: middle;\n",
       "    }\n",
       "\n",
       "    .dataframe tbody tr th {\n",
       "        vertical-align: top;\n",
       "    }\n",
       "\n",
       "    .dataframe thead th {\n",
       "        text-align: right;\n",
       "    }\n",
       "</style>\n",
       "<table border=\"1\" class=\"dataframe\">\n",
       "  <thead>\n",
       "    <tr style=\"text-align: right;\">\n",
       "      <th></th>\n",
       "      <th>date</th>\n",
       "      <th>prod_eolienne</th>\n",
       "    </tr>\n",
       "  </thead>\n",
       "  <tbody>\n",
       "    <tr>\n",
       "      <th>2794</th>\n",
       "      <td>2024-05-04</td>\n",
       "      <td>-48.997601</td>\n",
       "    </tr>\n",
       "    <tr>\n",
       "      <th>2354</th>\n",
       "      <td>2023-02-19</td>\n",
       "      <td>7.077903</td>\n",
       "    </tr>\n",
       "    <tr>\n",
       "      <th>3262</th>\n",
       "      <td>2025-08-15</td>\n",
       "      <td>7.656243</td>\n",
       "    </tr>\n",
       "    <tr>\n",
       "      <th>2353</th>\n",
       "      <td>2023-02-18</td>\n",
       "      <td>8.626531</td>\n",
       "    </tr>\n",
       "    <tr>\n",
       "      <th>3261</th>\n",
       "      <td>2025-08-14</td>\n",
       "      <td>9.223880</td>\n",
       "    </tr>\n",
       "    <tr>\n",
       "      <th>...</th>\n",
       "      <td>...</td>\n",
       "      <td>...</td>\n",
       "    </tr>\n",
       "    <tr>\n",
       "      <th>1041</th>\n",
       "      <td>2019-07-17</td>\n",
       "      <td>100.000000</td>\n",
       "    </tr>\n",
       "    <tr>\n",
       "      <th>1043</th>\n",
       "      <td>2019-07-19</td>\n",
       "      <td>100.000000</td>\n",
       "    </tr>\n",
       "    <tr>\n",
       "      <th>1275</th>\n",
       "      <td>2020-03-07</td>\n",
       "      <td>100.000000</td>\n",
       "    </tr>\n",
       "    <tr>\n",
       "      <th>1014</th>\n",
       "      <td>2019-06-19</td>\n",
       "      <td>666.206615</td>\n",
       "    </tr>\n",
       "    <tr>\n",
       "      <th>1002</th>\n",
       "      <td>2019-06-07</td>\n",
       "      <td>833.516984</td>\n",
       "    </tr>\n",
       "  </tbody>\n",
       "</table>\n",
       "<p>3308 rows × 2 columns</p>\n",
       "</div>"
      ],
      "text/plain": [
       "            date  prod_eolienne\n",
       "2794  2024-05-04     -48.997601\n",
       "2354  2023-02-19       7.077903\n",
       "3262  2025-08-15       7.656243\n",
       "2353  2023-02-18       8.626531\n",
       "3261  2025-08-14       9.223880\n",
       "...          ...            ...\n",
       "1041  2019-07-17     100.000000\n",
       "1043  2019-07-19     100.000000\n",
       "1275  2020-03-07     100.000000\n",
       "1014  2019-06-19     666.206615\n",
       "1002  2019-06-07     833.516984\n",
       "\n",
       "[3308 rows x 2 columns]"
      ]
     },
     "metadata": {},
     "output_type": "display_data"
    },
    {
     "name": "stdout",
     "output_type": "stream",
     "text": [
      "            date  prod_eolienne\n",
      "1002  2019-06-07     833.516984\n",
      "1014  2019-06-19     666.206615\n",
      "578   2018-04-07     100.000000\n",
      "0     2016-09-01     100.000000\n",
      "583   2018-04-12     100.000000\n",
      "...          ...            ...\n",
      "3261  2025-08-14       9.223880\n",
      "2353  2023-02-18       8.626531\n",
      "3262  2025-08-15       7.656243\n",
      "2354  2023-02-19       7.077903\n",
      "2794  2024-05-04     -48.997601\n",
      "\n",
      "[3308 rows x 2 columns]\n"
     ]
    }
   ],
   "source": [
    "# Valeurs manquantes\n",
    "df_missing = df.isnull().sum()\n",
    "display(df_missing)\n",
    "\n",
    "# Valeur extrême\n",
    "\n",
    "df_weird = df.sort_values(by=['prod_eolienne'], ascending=True)\n",
    "display(min(df_weird['prod_eolienne']))\n",
    "display(df_weird)\n",
    "\n",
    "df_max = df.sort_values(by=['prod_eolienne'], ascending=False)\n",
    "\n",
    "print(df_max)"
   ]
  },
  {
   "cell_type": "markdown",
   "id": "abb7a69f",
   "metadata": {},
   "source": [
    "### Traitement des valeurs aberrantes\n",
    "- Si valeur < 0 -> passage à une valeur absolue\n",
    "- Si valeur > 100 -> passage à une valeur  NULL"
   ]
  },
  {
   "cell_type": "code",
   "execution_count": 28,
   "id": "8587d1f9",
   "metadata": {},
   "outputs": [
    {
     "data": {
      "application/vnd.microsoft.datawrangler.viewer.v0+json": {
       "columns": [
        {
         "name": "index",
         "rawType": "object",
         "type": "string"
        },
        {
         "name": "0",
         "rawType": "int64",
         "type": "integer"
        }
       ],
       "ref": "73de6d07-30f4-4ac0-8d45-26cb63c805c0",
       "rows": [
        [
         "date",
         "0"
        ],
        [
         "prod_eolienne",
         "0"
        ]
       ],
       "shape": {
        "columns": 1,
        "rows": 2
       }
      },
      "text/plain": [
       "date             0\n",
       "prod_eolienne    0\n",
       "dtype: int64"
      ]
     },
     "metadata": {},
     "output_type": "display_data"
    },
    {
     "data": {
      "application/vnd.microsoft.datawrangler.viewer.v0+json": {
       "columns": [
        {
         "name": "index",
         "rawType": "object",
         "type": "string"
        },
        {
         "name": "prod_eolienne",
         "rawType": "float64",
         "type": "float"
        }
       ],
       "ref": "90b3bec0-f58f-448e-8423-e66dceca3a83",
       "rows": [
        [
         "count",
         "3306.0"
        ],
        [
         "mean",
         "59.87420047427623"
        ],
        [
         "std",
         "21.427358033882165"
        ],
        [
         "min",
         "7.077902853954119"
        ],
        [
         "25%",
         "44.33104442799133"
        ],
        [
         "50%",
         "61.704083606524605"
        ],
        [
         "75%",
         "76.8304227847575"
        ],
        [
         "max",
         "100.0"
        ]
       ],
       "shape": {
        "columns": 1,
        "rows": 8
       }
      },
      "text/html": [
       "<div>\n",
       "<style scoped>\n",
       "    .dataframe tbody tr th:only-of-type {\n",
       "        vertical-align: middle;\n",
       "    }\n",
       "\n",
       "    .dataframe tbody tr th {\n",
       "        vertical-align: top;\n",
       "    }\n",
       "\n",
       "    .dataframe thead th {\n",
       "        text-align: right;\n",
       "    }\n",
       "</style>\n",
       "<table border=\"1\" class=\"dataframe\">\n",
       "  <thead>\n",
       "    <tr style=\"text-align: right;\">\n",
       "      <th></th>\n",
       "      <th>prod_eolienne</th>\n",
       "    </tr>\n",
       "  </thead>\n",
       "  <tbody>\n",
       "    <tr>\n",
       "      <th>count</th>\n",
       "      <td>3306.000000</td>\n",
       "    </tr>\n",
       "    <tr>\n",
       "      <th>mean</th>\n",
       "      <td>59.874200</td>\n",
       "    </tr>\n",
       "    <tr>\n",
       "      <th>std</th>\n",
       "      <td>21.427358</td>\n",
       "    </tr>\n",
       "    <tr>\n",
       "      <th>min</th>\n",
       "      <td>7.077903</td>\n",
       "    </tr>\n",
       "    <tr>\n",
       "      <th>25%</th>\n",
       "      <td>44.331044</td>\n",
       "    </tr>\n",
       "    <tr>\n",
       "      <th>50%</th>\n",
       "      <td>61.704084</td>\n",
       "    </tr>\n",
       "    <tr>\n",
       "      <th>75%</th>\n",
       "      <td>76.830423</td>\n",
       "    </tr>\n",
       "    <tr>\n",
       "      <th>max</th>\n",
       "      <td>100.000000</td>\n",
       "    </tr>\n",
       "  </tbody>\n",
       "</table>\n",
       "</div>"
      ],
      "text/plain": [
       "       prod_eolienne\n",
       "count    3306.000000\n",
       "mean       59.874200\n",
       "std        21.427358\n",
       "min         7.077903\n",
       "25%        44.331044\n",
       "50%        61.704084\n",
       "75%        76.830423\n",
       "max       100.000000"
      ]
     },
     "metadata": {},
     "output_type": "display_data"
    },
    {
     "data": {
      "application/vnd.microsoft.datawrangler.viewer.v0+json": {
       "columns": [
        {
         "name": "index",
         "rawType": "int64",
         "type": "integer"
        },
        {
         "name": "date",
         "rawType": "object",
         "type": "string"
        },
        {
         "name": "prod_eolienne",
         "rawType": "float64",
         "type": "float"
        }
       ],
       "ref": "104be9f1-a0b4-440a-bdc9-746f5e9d4916",
       "rows": [
        [
         "2354",
         "2023-02-19",
         "7.077902853954119"
        ],
        [
         "3262",
         "2025-08-15",
         "7.656243024268741"
        ],
        [
         "2353",
         "2023-02-18",
         "8.626531428732912"
        ],
        [
         "3261",
         "2025-08-14",
         "9.223880126322667"
        ],
        [
         "3036",
         "2025-01-01",
         "9.35738367794244"
        ],
        [
         "2587",
         "2023-10-10",
         "9.409431767655215"
        ],
        [
         "2352",
         "2023-02-17",
         "9.748582864026632"
        ],
        [
         "2586",
         "2023-10-09",
         "9.818138446897892"
        ],
        [
         "2561",
         "2023-09-14",
         "10.0629376267052"
        ],
        [
         "2589",
         "2023-10-12",
         "10.140606082330894"
        ],
        [
         "2588",
         "2023-10-11",
         "10.349179274843117"
        ],
        [
         "2357",
         "2023-02-22",
         "10.8977122643736"
        ],
        [
         "3260",
         "2025-08-13",
         "10.927689454316036"
        ],
        [
         "2355",
         "2023-02-20",
         "11.020825107359602"
        ],
        [
         "3201",
         "2025-06-15",
         "11.04552268615395"
        ],
        [
         "3035",
         "2024-12-31",
         "11.104017058753117"
        ],
        [
         "2356",
         "2023-02-21",
         "11.228603802516924"
        ],
        [
         "3297",
         "2025-09-19",
         "11.377554844239576"
        ],
        [
         "2558",
         "2023-09-11",
         "11.683855025470455"
        ],
        [
         "2584",
         "2023-10-07",
         "11.725873485622188"
        ],
        [
         "2585",
         "2023-10-08",
         "11.733965796486636"
        ],
        [
         "3218",
         "2025-07-02",
         "12.083895706422402"
        ],
        [
         "638",
         "2018-06-08",
         "12.583963882347692"
        ],
        [
         "389",
         "2017-09-30",
         "12.61568377198824"
        ],
        [
         "2351",
         "2023-02-16",
         "12.768855962998732"
        ],
        [
         "3164",
         "2025-05-09",
         "12.885022891210037"
        ],
        [
         "3219",
         "2025-07-03",
         "12.964870639623072"
        ],
        [
         "3259",
         "2025-08-12",
         "13.032071096240522"
        ],
        [
         "634",
         "2018-06-04",
         "13.150459588467118"
        ],
        [
         "392",
         "2017-10-03",
         "13.259297135907453"
        ],
        [
         "3298",
         "2025-09-20",
         "13.381987052913148"
        ],
        [
         "3210",
         "2025-06-24",
         "13.423565111008198"
        ],
        [
         "2668",
         "2023-12-30",
         "13.614910351262328"
        ],
        [
         "2707",
         "2024-02-07",
         "13.688352490858668"
        ],
        [
         "3163",
         "2025-05-08",
         "13.755639087414291"
        ],
        [
         "1146",
         "2019-10-30",
         "13.933909883562862"
        ],
        [
         "1149",
         "2019-11-02",
         "13.93589677727036"
        ],
        [
         "1942",
         "2022-01-03",
         "13.97629511028183"
        ],
        [
         "2583",
         "2023-10-06",
         "14.02013653547716"
        ],
        [
         "403",
         "2017-10-14",
         "14.071755164899129"
        ],
        [
         "3200",
         "2025-06-14",
         "14.12039346921699"
        ],
        [
         "2460",
         "2023-06-05",
         "14.127601147435248"
        ],
        [
         "2560",
         "2023-09-13",
         "14.140475303609112"
        ],
        [
         "3209",
         "2025-06-23",
         "14.213291298234187"
        ],
        [
         "2557",
         "2023-09-10",
         "14.221502258957404"
        ],
        [
         "2750",
         "2024-03-21",
         "14.238631931435847"
        ],
        [
         "3037",
         "2025-01-02",
         "14.347376784268288"
        ],
        [
         "2706",
         "2024-02-06",
         "14.418552538582391"
        ],
        [
         "3296",
         "2025-09-18",
         "14.497876608457627"
        ],
        [
         "637",
         "2018-06-07",
         "14.584896606962678"
        ]
       ],
       "shape": {
        "columns": 2,
        "rows": 3306
       }
      },
      "text/html": [
       "<div>\n",
       "<style scoped>\n",
       "    .dataframe tbody tr th:only-of-type {\n",
       "        vertical-align: middle;\n",
       "    }\n",
       "\n",
       "    .dataframe tbody tr th {\n",
       "        vertical-align: top;\n",
       "    }\n",
       "\n",
       "    .dataframe thead th {\n",
       "        text-align: right;\n",
       "    }\n",
       "</style>\n",
       "<table border=\"1\" class=\"dataframe\">\n",
       "  <thead>\n",
       "    <tr style=\"text-align: right;\">\n",
       "      <th></th>\n",
       "      <th>date</th>\n",
       "      <th>prod_eolienne</th>\n",
       "    </tr>\n",
       "  </thead>\n",
       "  <tbody>\n",
       "    <tr>\n",
       "      <th>2354</th>\n",
       "      <td>2023-02-19</td>\n",
       "      <td>7.077903</td>\n",
       "    </tr>\n",
       "    <tr>\n",
       "      <th>3262</th>\n",
       "      <td>2025-08-15</td>\n",
       "      <td>7.656243</td>\n",
       "    </tr>\n",
       "    <tr>\n",
       "      <th>2353</th>\n",
       "      <td>2023-02-18</td>\n",
       "      <td>8.626531</td>\n",
       "    </tr>\n",
       "    <tr>\n",
       "      <th>3261</th>\n",
       "      <td>2025-08-14</td>\n",
       "      <td>9.223880</td>\n",
       "    </tr>\n",
       "    <tr>\n",
       "      <th>3036</th>\n",
       "      <td>2025-01-01</td>\n",
       "      <td>9.357384</td>\n",
       "    </tr>\n",
       "    <tr>\n",
       "      <th>...</th>\n",
       "      <td>...</td>\n",
       "      <td>...</td>\n",
       "    </tr>\n",
       "    <tr>\n",
       "      <th>1987</th>\n",
       "      <td>2022-02-17</td>\n",
       "      <td>100.000000</td>\n",
       "    </tr>\n",
       "    <tr>\n",
       "      <th>1607</th>\n",
       "      <td>2021-02-02</td>\n",
       "      <td>100.000000</td>\n",
       "    </tr>\n",
       "    <tr>\n",
       "      <th>1905</th>\n",
       "      <td>2021-11-27</td>\n",
       "      <td>100.000000</td>\n",
       "    </tr>\n",
       "    <tr>\n",
       "      <th>1</th>\n",
       "      <td>2016-09-02</td>\n",
       "      <td>100.000000</td>\n",
       "    </tr>\n",
       "    <tr>\n",
       "      <th>0</th>\n",
       "      <td>2016-09-01</td>\n",
       "      <td>100.000000</td>\n",
       "    </tr>\n",
       "  </tbody>\n",
       "</table>\n",
       "<p>3306 rows × 2 columns</p>\n",
       "</div>"
      ],
      "text/plain": [
       "            date  prod_eolienne\n",
       "2354  2023-02-19       7.077903\n",
       "3262  2025-08-15       7.656243\n",
       "2353  2023-02-18       8.626531\n",
       "3261  2025-08-14       9.223880\n",
       "3036  2025-01-01       9.357384\n",
       "...          ...            ...\n",
       "1987  2022-02-17     100.000000\n",
       "1607  2021-02-02     100.000000\n",
       "1905  2021-11-27     100.000000\n",
       "1     2016-09-02     100.000000\n",
       "0     2016-09-01     100.000000\n",
       "\n",
       "[3306 rows x 2 columns]"
      ]
     },
     "metadata": {},
     "output_type": "display_data"
    }
   ],
   "source": [
    "# Fonction pour traiter les valeurs aberrantes\n",
    "\n",
    "def clean_value(number):\n",
    "    if number < 0:\n",
    "        number = abs(number)\n",
    "    if number > 100:\n",
    "        return None\n",
    "    return number\n",
    "\n",
    "df['prod_eolienne'] = df['prod_eolienne'].apply(clean_value)\n",
    "df = df.dropna()\n",
    "\n",
    "display(df.isnull().sum())\n",
    "display(df.describe())\n",
    "display(df.sort_values(by=['prod_eolienne']))"
   ]
  },
  {
   "cell_type": "markdown",
   "id": "0edbcf0d",
   "metadata": {},
   "source": [
    "### Conversion de la colonne 'date' au format datetime"
   ]
  },
  {
   "cell_type": "code",
   "execution_count": 29,
   "id": "1d28c557",
   "metadata": {},
   "outputs": [
    {
     "name": "stderr",
     "output_type": "stream",
     "text": [
      "/tmp/ipykernel_58714/1996876030.py:1: SettingWithCopyWarning: \n",
      "A value is trying to be set on a copy of a slice from a DataFrame.\n",
      "Try using .loc[row_indexer,col_indexer] = value instead\n",
      "\n",
      "See the caveats in the documentation: https://pandas.pydata.org/pandas-docs/stable/user_guide/indexing.html#returning-a-view-versus-a-copy\n",
      "  df['date'] = pd.to_datetime(df['date'], format='%Y-%m-%d')\n"
     ]
    },
    {
     "data": {
      "application/vnd.microsoft.datawrangler.viewer.v0+json": {
       "columns": [
        {
         "name": "index",
         "rawType": "object",
         "type": "string"
        },
        {
         "name": "0",
         "rawType": "object",
         "type": "unknown"
        }
       ],
       "ref": "702ede24-367c-464b-9711-b132440b14f6",
       "rows": [
        [
         "date",
         "datetime64[ns]"
        ],
        [
         "prod_eolienne",
         "float64"
        ]
       ],
       "shape": {
        "columns": 1,
        "rows": 2
       }
      },
      "text/plain": [
       "date             datetime64[ns]\n",
       "prod_eolienne           float64\n",
       "dtype: object"
      ]
     },
     "metadata": {},
     "output_type": "display_data"
    }
   ],
   "source": [
    "df['date'] = pd.to_datetime(df['date'], format='%Y-%m-%d')\n",
    "\n",
    "display(df.dtypes)"
   ]
  },
  {
   "cell_type": "markdown",
   "id": "1ba37d5f",
   "metadata": {},
   "source": [
    "# Dataset météo - param_eolienne.csv\n",
    "- Vitesse moyenne du vent (10m)\n",
    "- Direction du vent\n",
    "- Température\n",
    "- Pression atmosphérique (niveau de la mer)\n",
    "\n",
    "Données récoltées depuis l'API open-meteo"
   ]
  },
  {
   "cell_type": "code",
   "execution_count": 30,
   "id": "1511f58f",
   "metadata": {},
   "outputs": [
    {
     "name": "stdout",
     "output_type": "stream",
     "text": [
      "           date  winddirection_10m_dominant (°)  wind_speed_10m_mean (km/h)  \\\n",
      "0    2016-09-01                             269                        12.0   \n",
      "1    2016-09-02                             234                        12.6   \n",
      "2    2016-09-03                             237                        11.5   \n",
      "3    2016-09-04                             270                        11.6   \n",
      "4    2016-09-05                             307                        17.6   \n",
      "...         ...                             ...                         ...   \n",
      "3312 2025-09-26                             306                         6.4   \n",
      "3313 2025-09-27                             355                         6.3   \n",
      "3314 2025-09-28                               2                         5.4   \n",
      "3315 2025-09-29                             340                         4.4   \n",
      "3316 2025-09-30                             357                         7.3   \n",
      "\n",
      "      temperature_2m_mean (°C)  pressure_msl_mean (hPa)  \n",
      "0                         26.0                   1019.5  \n",
      "1                         25.8                   1018.8  \n",
      "2                         25.3                   1017.7  \n",
      "3                         26.3                   1016.8  \n",
      "4                         26.7                   1017.7  \n",
      "...                        ...                      ...  \n",
      "3312                      14.2                   1019.2  \n",
      "3313                      14.9                   1019.6  \n",
      "3314                      14.7                   1018.7  \n",
      "3315                      17.1                   1018.8  \n",
      "3316                      17.7                   1019.9  \n",
      "\n",
      "[3317 rows x 5 columns]\n"
     ]
    }
   ],
   "source": [
    "# Chargement\n",
    "df_param = pd.read_csv('/home/gaetansimplon/production_enr/data/param_eolienne.csv')\n",
    "\n",
    "\n",
    "# Mise au format datetime\n",
    "df_param['time'] = pd.to_datetime(df_param['time'])\n",
    "# Renommage colonne date (time -> date)\n",
    "df_param.rename(columns={'time': 'date'}, inplace=True)\n",
    "\n",
    "print(df_param)"
   ]
  },
  {
   "cell_type": "code",
   "execution_count": 31,
   "id": "1daff1fe",
   "metadata": {},
   "outputs": [
    {
     "data": {
      "text/plain": [
       "'Résumé : '"
      ]
     },
     "metadata": {},
     "output_type": "display_data"
    },
    {
     "data": {
      "application/vnd.microsoft.datawrangler.viewer.v0+json": {
       "columns": [
        {
         "name": "index",
         "rawType": "object",
         "type": "string"
        },
        {
         "name": "date",
         "rawType": "object",
         "type": "unknown"
        },
        {
         "name": "winddirection_10m_dominant (°)",
         "rawType": "float64",
         "type": "float"
        },
        {
         "name": "wind_speed_10m_mean (km/h)",
         "rawType": "float64",
         "type": "float"
        },
        {
         "name": "temperature_2m_mean (°C)",
         "rawType": "float64",
         "type": "float"
        },
        {
         "name": "pressure_msl_mean (hPa)",
         "rawType": "float64",
         "type": "float"
        }
       ],
       "ref": "151393d6-fa25-41b0-809c-430862371f99",
       "rows": [
        [
         "count",
         "3317",
         "3317.0",
         "3317.0",
         "3317.0",
         "3317.0"
        ],
        [
         "mean",
         "2021-03-17 00:00:00",
         "214.22037986132048",
         "12.146367199276455",
         "15.574977389207113",
         "1016.9764847753995"
        ],
        [
         "min",
         "2016-09-01 00:00:00",
         "0.0",
         "3.5",
         "-2.2",
         "987.9"
        ],
        [
         "25%",
         "2018-12-09 00:00:00",
         "113.0",
         "8.6",
         "10.0",
         "1013.3"
        ],
        [
         "50%",
         "2021-03-17 00:00:00",
         "268.0",
         "10.9",
         "15.0",
         "1016.7"
        ],
        [
         "75%",
         "2023-06-24 00:00:00",
         "316.0",
         "14.7",
         "21.4",
         "1020.8"
        ],
        [
         "max",
         "2025-09-30 00:00:00",
         "360.0",
         "43.1",
         "33.6",
         "1038.4"
        ],
        [
         "std",
         null,
         "119.20385766005145",
         "4.924862110233179",
         "6.928748677780023",
         "6.927901703852271"
        ]
       ],
       "shape": {
        "columns": 5,
        "rows": 8
       }
      },
      "text/html": [
       "<div>\n",
       "<style scoped>\n",
       "    .dataframe tbody tr th:only-of-type {\n",
       "        vertical-align: middle;\n",
       "    }\n",
       "\n",
       "    .dataframe tbody tr th {\n",
       "        vertical-align: top;\n",
       "    }\n",
       "\n",
       "    .dataframe thead th {\n",
       "        text-align: right;\n",
       "    }\n",
       "</style>\n",
       "<table border=\"1\" class=\"dataframe\">\n",
       "  <thead>\n",
       "    <tr style=\"text-align: right;\">\n",
       "      <th></th>\n",
       "      <th>date</th>\n",
       "      <th>winddirection_10m_dominant (°)</th>\n",
       "      <th>wind_speed_10m_mean (km/h)</th>\n",
       "      <th>temperature_2m_mean (°C)</th>\n",
       "      <th>pressure_msl_mean (hPa)</th>\n",
       "    </tr>\n",
       "  </thead>\n",
       "  <tbody>\n",
       "    <tr>\n",
       "      <th>count</th>\n",
       "      <td>3317</td>\n",
       "      <td>3317.000000</td>\n",
       "      <td>3317.000000</td>\n",
       "      <td>3317.000000</td>\n",
       "      <td>3317.000000</td>\n",
       "    </tr>\n",
       "    <tr>\n",
       "      <th>mean</th>\n",
       "      <td>2021-03-17 00:00:00</td>\n",
       "      <td>214.220380</td>\n",
       "      <td>12.146367</td>\n",
       "      <td>15.574977</td>\n",
       "      <td>1016.976485</td>\n",
       "    </tr>\n",
       "    <tr>\n",
       "      <th>min</th>\n",
       "      <td>2016-09-01 00:00:00</td>\n",
       "      <td>0.000000</td>\n",
       "      <td>3.500000</td>\n",
       "      <td>-2.200000</td>\n",
       "      <td>987.900000</td>\n",
       "    </tr>\n",
       "    <tr>\n",
       "      <th>25%</th>\n",
       "      <td>2018-12-09 00:00:00</td>\n",
       "      <td>113.000000</td>\n",
       "      <td>8.600000</td>\n",
       "      <td>10.000000</td>\n",
       "      <td>1013.300000</td>\n",
       "    </tr>\n",
       "    <tr>\n",
       "      <th>50%</th>\n",
       "      <td>2021-03-17 00:00:00</td>\n",
       "      <td>268.000000</td>\n",
       "      <td>10.900000</td>\n",
       "      <td>15.000000</td>\n",
       "      <td>1016.700000</td>\n",
       "    </tr>\n",
       "    <tr>\n",
       "      <th>75%</th>\n",
       "      <td>2023-06-24 00:00:00</td>\n",
       "      <td>316.000000</td>\n",
       "      <td>14.700000</td>\n",
       "      <td>21.400000</td>\n",
       "      <td>1020.800000</td>\n",
       "    </tr>\n",
       "    <tr>\n",
       "      <th>max</th>\n",
       "      <td>2025-09-30 00:00:00</td>\n",
       "      <td>360.000000</td>\n",
       "      <td>43.100000</td>\n",
       "      <td>33.600000</td>\n",
       "      <td>1038.400000</td>\n",
       "    </tr>\n",
       "    <tr>\n",
       "      <th>std</th>\n",
       "      <td>NaN</td>\n",
       "      <td>119.203858</td>\n",
       "      <td>4.924862</td>\n",
       "      <td>6.928749</td>\n",
       "      <td>6.927902</td>\n",
       "    </tr>\n",
       "  </tbody>\n",
       "</table>\n",
       "</div>"
      ],
      "text/plain": [
       "                      date  winddirection_10m_dominant (°)  \\\n",
       "count                 3317                     3317.000000   \n",
       "mean   2021-03-17 00:00:00                      214.220380   \n",
       "min    2016-09-01 00:00:00                        0.000000   \n",
       "25%    2018-12-09 00:00:00                      113.000000   \n",
       "50%    2021-03-17 00:00:00                      268.000000   \n",
       "75%    2023-06-24 00:00:00                      316.000000   \n",
       "max    2025-09-30 00:00:00                      360.000000   \n",
       "std                    NaN                      119.203858   \n",
       "\n",
       "       wind_speed_10m_mean (km/h)  temperature_2m_mean (°C)  \\\n",
       "count                 3317.000000               3317.000000   \n",
       "mean                    12.146367                 15.574977   \n",
       "min                      3.500000                 -2.200000   \n",
       "25%                      8.600000                 10.000000   \n",
       "50%                     10.900000                 15.000000   \n",
       "75%                     14.700000                 21.400000   \n",
       "max                     43.100000                 33.600000   \n",
       "std                      4.924862                  6.928749   \n",
       "\n",
       "       pressure_msl_mean (hPa)  \n",
       "count              3317.000000  \n",
       "mean               1016.976485  \n",
       "min                 987.900000  \n",
       "25%                1013.300000  \n",
       "50%                1016.700000  \n",
       "75%                1020.800000  \n",
       "max                1038.400000  \n",
       "std                   6.927902  "
      ]
     },
     "metadata": {},
     "output_type": "display_data"
    },
    {
     "data": {
      "text/plain": [
       "'Types des données : '"
      ]
     },
     "metadata": {},
     "output_type": "display_data"
    },
    {
     "data": {
      "application/vnd.microsoft.datawrangler.viewer.v0+json": {
       "columns": [
        {
         "name": "index",
         "rawType": "object",
         "type": "string"
        },
        {
         "name": "0",
         "rawType": "object",
         "type": "unknown"
        }
       ],
       "ref": "9cc88721-0c5f-49e2-8c75-562db7fa406e",
       "rows": [
        [
         "date",
         "datetime64[ns]"
        ],
        [
         "winddirection_10m_dominant (°)",
         "int64"
        ],
        [
         "wind_speed_10m_mean (km/h)",
         "float64"
        ],
        [
         "temperature_2m_mean (°C)",
         "float64"
        ],
        [
         "pressure_msl_mean (hPa)",
         "float64"
        ]
       ],
       "shape": {
        "columns": 1,
        "rows": 5
       }
      },
      "text/plain": [
       "date                              datetime64[ns]\n",
       "winddirection_10m_dominant (°)             int64\n",
       "wind_speed_10m_mean (km/h)               float64\n",
       "temperature_2m_mean (°C)                 float64\n",
       "pressure_msl_mean (hPa)                  float64\n",
       "dtype: object"
      ]
     },
     "metadata": {},
     "output_type": "display_data"
    },
    {
     "data": {
      "text/plain": [
       "'Valeurs manquantes : '"
      ]
     },
     "metadata": {},
     "output_type": "display_data"
    },
    {
     "data": {
      "application/vnd.microsoft.datawrangler.viewer.v0+json": {
       "columns": [
        {
         "name": "index",
         "rawType": "object",
         "type": "string"
        },
        {
         "name": "0",
         "rawType": "int64",
         "type": "integer"
        }
       ],
       "ref": "58c3821e-0898-4dec-bd7e-d63a21afed4e",
       "rows": [
        [
         "date",
         "0"
        ],
        [
         "winddirection_10m_dominant (°)",
         "0"
        ],
        [
         "wind_speed_10m_mean (km/h)",
         "0"
        ],
        [
         "temperature_2m_mean (°C)",
         "0"
        ],
        [
         "pressure_msl_mean (hPa)",
         "0"
        ]
       ],
       "shape": {
        "columns": 1,
        "rows": 5
       }
      },
      "text/plain": [
       "date                              0\n",
       "winddirection_10m_dominant (°)    0\n",
       "wind_speed_10m_mean (km/h)        0\n",
       "temperature_2m_mean (°C)          0\n",
       "pressure_msl_mean (hPa)           0\n",
       "dtype: int64"
      ]
     },
     "metadata": {},
     "output_type": "display_data"
    },
    {
     "data": {
      "text/plain": [
       "'Doublons :'"
      ]
     },
     "metadata": {},
     "output_type": "display_data"
    },
    {
     "data": {
      "text/plain": [
       "np.int64(0)"
      ]
     },
     "metadata": {},
     "output_type": "display_data"
    }
   ],
   "source": [
    "# Résumé\n",
    "display('Résumé : ',df_param.describe())\n",
    "\n",
    "# Types de données\n",
    "\n",
    "display('Types des données : ',df_param.dtypes)\n",
    "\n",
    "## Missing values\n",
    "\n",
    "display('Valeurs manquantes : ', df_param.isnull().sum())\n",
    "\n",
    "## Doublons\n",
    "\n",
    "display('Doublons :', df_param.duplicated().sum())"
   ]
  },
  {
   "cell_type": "markdown",
   "id": "d9a814e7",
   "metadata": {},
   "source": [
    "# Feature Engineering\n",
    "\n",
    "\n",
    "**Encodage des données de direction du vent**\n",
    "\n",
    "- Afin de signifier l'aspect 'circulaire' de ce type de données, il est nécessaire d'encoder ces dernières.\n",
    "- Transformer une valeur d'angle en deux valeurs : sin (nord-sud) et cos (est-ouest)\n",
    "- Ces deux nouvelles valeurs seront des features indépendantes pour l'entrainement du modèle\n",
    "\n",
    "**Saisonalité**\n",
    "\n",
    "- Prise en compte des mois de l'année\n",
    "\n",
    "**Traitement de la vitesse du vent** \n",
    "\n",
    "- La puissance du vent dépend du cube de la vitesse du vent, il faut donc en rendre compte dans nos données\n",
    "\n",
    "**Interactions entre les données**\n",
    "\n",
    "- Vitesse du vent x Direction du vent (wind_speed*wind_dir_sin | wind_dir_cos)\n",
    "- Température x Pression\n",
    "\n",
    "**Standardisation des données**\n",
    "\n",
    "- Certains modèles nécessitent d'avoir des données normalisées/standardisées (Ridge, Lasso...)"
   ]
  },
  {
   "cell_type": "code",
   "execution_count": 32,
   "id": "d7cf4584",
   "metadata": {},
   "outputs": [],
   "source": [
    "# Mise en fonction de la conversion de la direction du vent\n",
    "\n",
    "def convert_wind_dir(df: pd.DataFrame, col_name: str='winddirection_10m_dominant (°)') -> pd.DataFrame:\n",
    "    \"\"\"\n",
    "    Encode une colonne d'angle en degrés (0-360) sous forme trigonométrique (sin, cos).\n",
    "    \n",
    "    Args:\n",
    "        df (pd.DataFrame): DataFrame contenant la colonne d'angle en degrés.\n",
    "        col_name (str): Nom de la colonne contenant la direction du vent en degrés.\n",
    "    \n",
    "    Returns:\n",
    "        pd.DataFrame: DataFrame avec deux nouvelles colonnes ('wind_dir_sin', 'wind_dir_cos'),\n",
    "                      et sans la colonne d'origine en degrés ni sa version en radians.\n",
    "    \"\"\"\n",
    "    df = df.copy()\n",
    "    # renommage\n",
    "    df = df.rename(columns={col_name: 'wind_direction'})\n",
    "    # conversion en radians\n",
    "    df['wind_direction_rad'] = np.deg2rad(df['wind_direction'])\n",
    "    # encodage trigo\n",
    "    df['wind_dir_sin'] = np.sin(df['wind_direction_rad'])\n",
    "    df['wind_dir_cos'] = np.cos(df['wind_direction_rad'])\n",
    "    # suppression colonnes précédentes\n",
    "    df = df.drop(columns=['wind_direction', 'wind_direction_rad'])\n",
    "    return df\n",
    "    \n",
    "\n",
    "    "
   ]
  },
  {
   "cell_type": "markdown",
   "id": "1c8f479e",
   "metadata": {},
   "source": [
    "### Encodage de variables temporelle\n",
    "\n",
    "- Création d'une variable 'mois' pour enrichir le nombre de variable d'entrainement"
   ]
  },
  {
   "cell_type": "code",
   "execution_count": 33,
   "id": "77c4df4d",
   "metadata": {},
   "outputs": [],
   "source": [
    "\n",
    "def convert_date_to_month(df: pd.DataFrame, col_name: str='date') -> pd.DataFrame:\n",
    "    \"\"\"\n",
    "    Convertit la colonne 'date' au format datetime\n",
    "    \"\"\"\n",
    "    df = df.copy()\n",
    "    # Conversion en datetime\n",
    "    df[col_name] = pd.to_datetime(df[col_name])\n",
    "    # Création de la variable month\n",
    "    df['month'] = df[col_name].dt.month\n",
    "    return df"
   ]
  },
  {
   "cell_type": "markdown",
   "id": "f3dc7e42",
   "metadata": {},
   "source": [
    "## Traitement de la variable de vitesse du vent\n",
    "\n",
    "- **wind_speed2**: la puissance du vent dépend du cube de la vitesse, la vitesse au carré rend compte de la courbure que forme la relation entre puissance du vent et vitesse du vent\n",
    "\n",
    "- **wind_speed3**: Rend compte de la relation concrète et physique exacte entre le vent et la puissance\n",
    "\n",
    "- **wind_cos/sin**: Intègre la direction du vent dans la force effective qui agit sur l'éolienne\n",
    "\n",
    "- **temp_press**: Rend compte de l'interaction entre la température et la pression pour donner une valeur approximative de la densité de l'air. La densité de l'air influence la puissance du vent (variable wind_speed3)"
   ]
  },
  {
   "cell_type": "code",
   "execution_count": 34,
   "id": "12e7cb1c",
   "metadata": {},
   "outputs": [],
   "source": [
    "def compute_wind_param(df: pd.DataFrame) -> pd.DataFrame:\n",
    "    \"\"\"Ajoute les features dérivées pour la production éolienne :\n",
    "    - wind_speed^2, wind_speed^3\n",
    "    - composantes cos et sin de la vitesse du vent selon la direction\n",
    "    - interaction température * pression\n",
    "\n",
    "    \"\"\"\n",
    "    df = df.copy()\n",
    "    \n",
    "    # Puissance du vent\n",
    "    df['wind_speed2'] = df['wind_speed_10m_mean (km/h)']**2\n",
    "    df['wind_speed3'] = df['wind_speed_10m_mean (km/h)']**3\n",
    "    \n",
    "    # Composantes selon direction\n",
    "    \n",
    "    df['wind_cos'] = df['wind_speed_10m_mean (km/h)'] * df['wind_dir_cos']\n",
    "    df['wind_sin'] = df['wind_speed_10m_mean (km/h)'] * df['wind_dir_sin']\n",
    "    \n",
    "    # Interaction température * pression\n",
    "    \n",
    "    df['temp_press'] = (df['temperature_2m_mean (°C)'] * df['pressure_msl_mean (hPa)'])\n",
    "    \n",
    "    return df\n",
    "    \n",
    "    "
   ]
  },
  {
   "cell_type": "markdown",
   "id": "034a6603",
   "metadata": {},
   "source": [
    "## Standardisation des données pour l'entrainement"
   ]
  },
  {
   "cell_type": "code",
   "execution_count": 35,
   "id": "579dee98",
   "metadata": {},
   "outputs": [],
   "source": [
    "from sklearn.preprocessing import StandardScaler\n",
    "\n",
    "def standardize_features(df: pd.DataFrame, cols_to_scale: list[str]) -> pd.DataFrame:\n",
    "    \"\"\"\n",
    "    Standardise les colonnes sélectionnées\n",
    "    \"\"\"\n",
    "    \n",
    "    df = df.copy()\n",
    "    \n",
    "    scaler = StandardScaler()\n",
    "    \n",
    "    df[cols_to_scale] = scaler.fit_transform(df[cols_to_scale])\n",
    "    \n",
    "    return df    "
   ]
  },
  {
   "cell_type": "markdown",
   "id": "cbb047f4",
   "metadata": {},
   "source": [
    "## Pipeline de prétraitement des données\n",
    "\n",
    "- Fusion du dataset de production et de paramètres météo"
   ]
  },
  {
   "cell_type": "code",
   "execution_count": 36,
   "id": "5e1691a1",
   "metadata": {},
   "outputs": [],
   "source": [
    "## Fusion des dataframes\n",
    "\n",
    "df_merged = pd.merge(\n",
    "    df, df_param,\n",
    "    on='date', how='inner'\n",
    ")\n",
    "\n",
    "def preprocess_data(df: pd.DataFrame) -> pd.DataFrame:\n",
    "    \"\"\"\n",
    "    Pipeline de prétraitement des données météo\n",
    "    \"\"\"\n",
    "    # Conversion date -> datetime\n",
    "    df = convert_date_to_month(df)\n",
    "    # Conversion variable direction du vent (degré -> sin/cos)\n",
    "    df = convert_wind_dir(df)\n",
    "    # Mise en relation des données sur la puissance/vitesse du vent et pression * température\n",
    "    df = compute_wind_param(df)\n",
    "    # Sélection des colonnes à standardiser\n",
    "    cols_to_scale = [\n",
    "        'temperature_2m_mean (°C)',\n",
    "        'pressure_msl_mean (hPa)',\n",
    "        'wind_speed_10m_mean (km/h)',\n",
    "        'wind_speed2',\n",
    "        'wind_speed3',\n",
    "        'wind_cos',\n",
    "        'wind_sin',\n",
    "        'temp_press'  \n",
    "    ]\n",
    "    \n",
    "    df = standardize_features(df, cols_to_scale)\n",
    "    \n",
    "    return df\n",
    "\n",
    "df_merged = preprocess_data(df_merged)"
   ]
  },
  {
   "cell_type": "markdown",
   "id": "f2500635",
   "metadata": {},
   "source": [
    "# Entrainement"
   ]
  },
  {
   "cell_type": "markdown",
   "id": "1e81e58b",
   "metadata": {},
   "source": [
    "## Ridge"
   ]
  },
  {
   "cell_type": "markdown",
   "id": "284e6c34",
   "metadata": {},
   "source": [
    "### Imports"
   ]
  },
  {
   "cell_type": "code",
   "execution_count": 37,
   "id": "8641e321",
   "metadata": {},
   "outputs": [],
   "source": [
    "# Import des librairies\n",
    "import pandas as pd\n",
    "import numpy as np\n",
    "from sklearn.model_selection import train_test_split, cross_val_score\n",
    "from sklearn.preprocessing import StandardScaler\n",
    "from sklearn.linear_model import RidgeCV\n",
    "from sklearn.metrics import r2_score, mean_absolute_error, mean_squared_error\n",
    "from sklearn.pipeline import make_pipeline\n",
    "import matplotlib.pyplot as plt\n",
    "\n"
   ]
  },
  {
   "cell_type": "markdown",
   "id": "76510e28",
   "metadata": {},
   "source": [
    "### Définition features/target"
   ]
  },
  {
   "cell_type": "code",
   "execution_count": 38,
   "id": "651d7716",
   "metadata": {},
   "outputs": [],
   "source": [
    "# Définition des features\n",
    "\n",
    "features = ['wind_speed_10m_mean (km/h)', 'temperature_2m_mean (°C)',\n",
    "            'pressure_msl_mean (hPa)', 'month', 'wind_speed2', \n",
    "            'wind_speed3', 'wind_cos', 'wind_sin', 'temp_press']\n",
    "\n",
    "X = df_merged[features]\n",
    "\n",
    "y = df_merged['prod_eolienne']"
   ]
  },
  {
   "cell_type": "markdown",
   "id": "2f9502fd",
   "metadata": {},
   "source": [
    "### Découpage en train/test"
   ]
  },
  {
   "cell_type": "code",
   "execution_count": 39,
   "id": "d7f6bcdf",
   "metadata": {},
   "outputs": [],
   "source": [
    "# Split des données (80% train, 20% test)\n",
    "\n",
    "X_train, X_test, y_train, y_test = train_test_split(X, y, test_size=0.2, random_state=5)"
   ]
  },
  {
   "cell_type": "markdown",
   "id": "2cc78a56",
   "metadata": {},
   "source": [
    "### Construction du pipeline RidgeCV + StandardScaler pour normaliser les données"
   ]
  },
  {
   "cell_type": "code",
   "execution_count": 40,
   "id": "a70e98a7",
   "metadata": {},
   "outputs": [],
   "source": [
    "# Test sur l'hyperparamètre alpha \n",
    "alphas = [0.01, 0.1, 1, 10, 100] # Coefficient de régularisation \n",
    "\n",
    "ridge_cv = make_pipeline(\n",
    "    StandardScaler(),\n",
    "    RidgeCV(alphas=alphas, scoring='neg_mean_squared_error')\n",
    ")\n"
   ]
  },
  {
   "cell_type": "markdown",
   "id": "5bfc04a5",
   "metadata": {},
   "source": [
    "### Entrainement du modèle et prédiction"
   ]
  },
  {
   "cell_type": "code",
   "execution_count": 41,
   "id": "1cede844",
   "metadata": {},
   "outputs": [],
   "source": [
    "# Adaptation du modèle au jeu de données\n",
    "ridge_cv.fit(X_train, y_train)\n",
    "\n",
    "# Prédictions\n",
    "y_train_pred = ridge_cv.predict(X_train)\n",
    "y_test_pred = ridge_cv.predict(X_test)\n"
   ]
  },
  {
   "cell_type": "markdown",
   "id": "85acae2d",
   "metadata": {},
   "source": [
    "### Evaluation des performances"
   ]
  },
  {
   "cell_type": "code",
   "execution_count": 42,
   "id": "9d33cc49",
   "metadata": {},
   "outputs": [
    {
     "name": "stdout",
     "output_type": "stream",
     "text": [
      "R² train : 0.5177002678482024\n",
      "R² test  : 0.5128223120592788\n",
      "MAE : 12.288579145080424\n",
      "MSE : 220.93122644746404\n"
     ]
    }
   ],
   "source": [
    "print(\"R² train :\", r2_score(y_train, y_train_pred))\n",
    "print(\"R² test  :\", r2_score(y_test, y_test_pred))\n",
    "print(\"MAE :\", mean_absolute_error(y_test, y_test_pred))\n",
    "print(\"MSE :\", mean_squared_error(y_test, y_test_pred))"
   ]
  },
  {
   "cell_type": "markdown",
   "id": "23a58d71",
   "metadata": {},
   "source": [
    "R² train vs R² test -> Résultats très proches, pas d'overfitting\n",
    "\n",
    "MAE -> En moyenne, les prédictions se trompent de 12.29 KWh (sur 100KWh)\n",
    "\n",
    "MSE -> Le modèle fait généralement de petites erreurs mais peut occasionnellement faire de plus grandes erreurs (soit une erreur de presque 15KWh)"
   ]
  },
  {
   "cell_type": "markdown",
   "id": "c5091d14",
   "metadata": {},
   "source": [
    "### Validation croisée"
   ]
  },
  {
   "cell_type": "code",
   "execution_count": 43,
   "id": "9cf1ee30",
   "metadata": {},
   "outputs": [
    {
     "name": "stdout",
     "output_type": "stream",
     "text": [
      "R² CV: 0.5117928574135127 +/- 0.031074692670975873\n"
     ]
    }
   ],
   "source": [
    "scores = cross_val_score(ridge_cv, X_train, y_train, cv=5, scoring='r2')\n",
    "print(\"R² CV:\", np.mean(scores), \"+/-\", np.std(scores))"
   ]
  },
  {
   "cell_type": "markdown",
   "id": "c13845ca",
   "metadata": {},
   "source": [
    "Le résultat montre une stabilité du modèle:\n",
    "\n",
    "L'écart-type est faible (0.031)"
   ]
  },
  {
   "cell_type": "markdown",
   "id": "c29a6b90",
   "metadata": {},
   "source": [
    "### Visualisations"
   ]
  },
  {
   "cell_type": "code",
   "execution_count": 44,
   "id": "50039311",
   "metadata": {},
   "outputs": [
    {
     "data": {
      "image/png": "[encoded data removed]",
      "text/plain": [
       "<Figure size 800x600 with 1 Axes>"
      ]
     },
     "metadata": {},
     "output_type": "display_data"
    }
   ],
   "source": [
    "plt.figure(figsize=(8,6))\n",
    "plt.scatter(y_test, y_test_pred, alpha=0.5, color='blue', label='Prédictions')\n",
    "plt.plot([y_test.min(), y_test.max()], [y_test.min(), y_test.max()], 'r--', lw=2, label='y=x')\n",
    "plt.xlabel(\"Valeurs réelles\")\n",
    "plt.ylabel(\"Valeurs prédites\")\n",
    "plt.title(\"Ridge Regression - Réel vs Prédit\")\n",
    "plt.legend()\n",
    "plt.grid(True)\n",
    "plt.show()\n"
   ]
  },
  {
   "cell_type": "markdown",
   "id": "c3db7182",
   "metadata": {},
   "source": [
    "### Importances des features"
   ]
  },
  {
   "cell_type": "code",
   "execution_count": 45,
   "id": "730a75b1",
   "metadata": {},
   "outputs": [
    {
     "data": {
      "image/png": "[encoded data removed]",
      "text/plain": [
       "<Figure size 800x600 with 1 Axes>"
      ]
     },
     "metadata": {},
     "output_type": "display_data"
    }
   ],
   "source": [
    "ridge_model = ridge_cv.named_steps['ridgecv']  # récupération du RidgeCV à l'intérieur du pipeline\n",
    "coef = pd.Series(ridge_model.coef_, index=features)\n",
    "coef.sort_values().plot(kind='barh', figsize=(8,6))\n",
    "plt.title(\"Importance des features - RidgeCV\")\n",
    "plt.show()\n"
   ]
  },
  {
   "cell_type": "markdown",
   "id": "c14eaa2c",
   "metadata": {},
   "source": [
    "## Random Forest Regressor"
   ]
  },
  {
   "cell_type": "markdown",
   "id": "09f4d377",
   "metadata": {},
   "source": [
    "### Imports"
   ]
  },
  {
   "cell_type": "code",
   "execution_count": null,
   "id": "1a0aa763",
   "metadata": {},
   "outputs": [],
   "source": [
    "from sklearn.ensemble import RandomForestRegressor\n",
    "from sklearn.model_selection import RandomizedSearchCV"
   ]
  },
  {
   "cell_type": "markdown",
   "id": "d811e95e",
   "metadata": {},
   "source": [
    "### Entrainements + prédiction"
   ]
  },
  {
   "cell_type": "code",
   "execution_count": 49,
   "id": "76b3ebe4",
   "metadata": {},
   "outputs": [],
   "source": [
    "rf = RandomForestRegressor()\n",
    "\n",
    "rf.fit(X_train, y_train)\n",
    "\n",
    "y_train_pred = rf.predict(X_train)\n",
    "y_test_pred = rf.predict(X_test)"
   ]
  },
  {
   "cell_type": "markdown",
   "id": "c384402c",
   "metadata": {},
   "source": [
    "### Evaluations des performances"
   ]
  },
  {
   "cell_type": "code",
   "execution_count": 50,
   "id": "65c33525",
   "metadata": {},
   "outputs": [
    {
     "name": "stdout",
     "output_type": "stream",
     "text": [
      "R² train : 0.9337677319040045\n",
      "R² test  : 0.5331085649501245\n",
      "MAE : 11.812203373179038\n",
      "MSE : 211.73157128644337\n"
     ]
    }
   ],
   "source": [
    "print(\"R² train :\", r2_score(y_train, y_train_pred))\n",
    "print(\"R² test  :\", r2_score(y_test, y_test_pred))\n",
    "print(\"MAE :\", mean_absolute_error(y_test, y_test_pred))\n",
    "print(\"MSE :\", mean_squared_error(y_test, y_test_pred))\n"
   ]
  },
  {
   "cell_type": "markdown",
   "id": "d1810b09",
   "metadata": {},
   "source": [
    "### Validation croisée"
   ]
  },
  {
   "cell_type": "code",
   "execution_count": 51,
   "id": "acccda5a",
   "metadata": {},
   "outputs": [
    {
     "name": "stdout",
     "output_type": "stream",
     "text": [
      "R² CV : 0.5226151297059192 +/- 0.04932638681401135\n"
     ]
    }
   ],
   "source": [
    "scores = cross_val_score(rf, X_train, y_train, cv=5, scoring='r2', n_jobs=-1)\n",
    "print(\"R² CV :\", np.mean(scores), \"+/-\", np.std(scores))\n"
   ]
  },
  {
   "cell_type": "markdown",
   "id": "e90d1530",
   "metadata": {},
   "source": [
    "### Visualisations"
   ]
  },
  {
   "cell_type": "code",
   "execution_count": 52,
   "id": "05bef38d",
   "metadata": {},
   "outputs": [
    {
     "data": {
      "image/png": "[encoded data removed]",
      "text/plain": [
       "<Figure size 800x600 with 1 Axes>"
      ]
     },
     "metadata": {},
     "output_type": "display_data"
    }
   ],
   "source": [
    "plt.figure(figsize=(8,6))\n",
    "plt.scatter(y_test, y_test_pred, alpha=0.5, color='green', label='Prédictions')\n",
    "plt.plot([y_test.min(), y_test.max()], [y_test.min(), y_test.max()], 'r--', lw=2, label='y=x')\n",
    "plt.xlabel(\"Valeurs réelles\")\n",
    "plt.ylabel(\"Valeurs prédites\")\n",
    "plt.title(\"Random Forest - Réel vs Prédit\")\n",
    "plt.legend()\n",
    "plt.grid(True)\n",
    "plt.show()\n"
   ]
  },
  {
   "cell_type": "code",
   "execution_count": 55,
   "id": "6265aa08",
   "metadata": {},
   "outputs": [
    {
     "data": {
      "image/png": "[encoded data removed]",
      "text/plain": [
       "<Figure size 640x480 with 1 Axes>"
      ]
     },
     "metadata": {},
     "output_type": "display_data"
    },
    {
     "data": {
      "image/png": "[encoded data removed]",
      "text/plain": [
       "<Figure size 640x480 with 1 Axes>"
      ]
     },
     "metadata": {},
     "output_type": "display_data"
    }
   ],
   "source": [
    "residuals = y_test - y_test_pred\n",
    "\n",
    "plt.scatter(y_test_pred, residuals, alpha=0.5)\n",
    "plt.axhline(y=0, color='r', linestyle='--')\n",
    "plt.xlabel('Valeurs prédites')\n",
    "plt.ylabel('Résidus')\n",
    "plt.title('Résidus vs Prédictions')\n",
    "plt.show()\n",
    "\n",
    "plt.hist(residuals, bins=30, edgecolor='black')\n",
    "plt.xlabel('Résidus')\n",
    "plt.ylabel('Fréquence')\n",
    "plt.title('Distribution des résidus')\n",
    "plt.show()\n"
   ]
  },
  {
   "cell_type": "markdown",
   "id": "920424fc",
   "metadata": {},
   "source": [
    "### Importances des features"
   ]
  },
  {
   "cell_type": "code",
   "execution_count": 56,
   "id": "1c050069",
   "metadata": {},
   "outputs": [
    {
     "data": {
      "image/png": "[encoded data removed]",
      "text/plain": [
       "<Figure size 800x600 with 1 Axes>"
      ]
     },
     "metadata": {},
     "output_type": "display_data"
    }
   ],
   "source": [
    "importances = pd.Series(rf.feature_importances_, index=features)\n",
    "importances.sort_values().plot(kind='barh', figsize=(8,6))\n",
    "plt.title(\"Importance des features - Random Forest\")\n",
    "plt.show()\n"
   ]
  },
  {
   "cell_type": "markdown",
   "id": "c57dc88e",
   "metadata": {},
   "source": [
    "### Optimisation des hyperparamètres"
   ]
  },
  {
   "cell_type": "code",
   "execution_count": 58,
   "id": "be790fa2",
   "metadata": {},
   "outputs": [
    {
     "name": "stdout",
     "output_type": "stream",
     "text": [
      "Meilleurs paramètres : {'n_estimators': 300, 'min_samples_split': 2, 'min_samples_leaf': 4, 'max_depth': 10}\n",
      "Meilleur score CV : 0.5356181891179798\n"
     ]
    }
   ],
   "source": [
    "from sklearn.model_selection import RandomizedSearchCV\n",
    "\n",
    "param_grid = {\n",
    "    'n_estimators': [100, 200, 300],\n",
    "    'max_depth': [None, 5, 10, 20],\n",
    "    'min_samples_split': [2, 5, 10],\n",
    "    'min_samples_leaf': [1, 2, 4]\n",
    "}\n",
    "\n",
    "search = RandomizedSearchCV(\n",
    "    rf, param_distributions=param_grid, n_iter=20,\n",
    "    cv=5, scoring='r2', random_state=5, n_jobs=-1\n",
    ")\n",
    "\n",
    "search.fit(X_train, y_train)\n",
    "print(\"Meilleurs paramètres :\", search.best_params_)\n",
    "print(\"Meilleur score CV :\", search.best_score_)\n"
   ]
  }
 ],
 "metadata": {
  "kernelspec": {
   "display_name": ".venv",
   "language": "python",
   "name": "python3"
  },
  "language_info": {
   "codemirror_mode": {
    "name": "ipython",
    "version": 3
   },
   "file_extension": ".py",
   "mimetype": "text/x-python",
   "name": "python",
   "nbconvert_exporter": "python",
   "pygments_lexer": "ipython3",
   "version": "3.12.3"
  }
 },
 "nbformat": 4,
 "nbformat_minor": 5
}
