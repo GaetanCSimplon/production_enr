{
 "cells": [
  {
   "cell_type": "markdown",
   "id": "4fa3764c",
   "metadata": {},
   "source": [
    "# 📊 Prévision de la production hydro-électrique\n",
    "\n",
    "Dans cette section, nous allons nous concentrer sur **la centrale hydro-électrique située dans la région de Montpellier**.  \n",
    "L’objectif est de prédire la **production quotidienne d’énergie** à partir de données environnementales et hydrologiques locales.\n",
    "\n",
    "- `date_obs_elab` : date de l’observation (YYYY-MM-DD)  \n",
    "- `prod_hydro` : production d’énergie (kW)  \n"
   ]
  },
  {
   "cell_type": "markdown",
   "id": "7e1308ec",
   "metadata": {},
   "source": [
    "## Import "
   ]
  },
  {
   "cell_type": "code",
   "execution_count": 10,
   "id": "496a123a",
   "metadata": {},
   "outputs": [],
   "source": [
    "import pandas as pd\n",
    "import matplotlib.pyplot as plt"
   ]
  },
  {
   "cell_type": "markdown",
   "id": "63ac58dd",
   "metadata": {},
   "source": [
    "## 1. Chargement des données"
   ]
  },
  {
   "cell_type": "code",
   "execution_count": 11,
   "id": "7adbe8b2",
   "metadata": {},
   "outputs": [
    {
     "data": {
      "application/vnd.microsoft.datawrangler.viewer.v0+json": {
       "columns": [
        {
         "name": "index",
         "rawType": "int64",
         "type": "integer"
        },
        {
         "name": "date_obs_elab",
         "rawType": "object",
         "type": "string"
        },
        {
         "name": "prod_hydro",
         "rawType": "float64",
         "type": "float"
        }
       ],
       "ref": "d6967a34-0ef2-4dd0-89a6-7ead15de9cef",
       "rows": [
        [
         "0",
         "2026-08-01",
         "-200.0"
        ],
        [
         "1",
         "2022-08-01",
         "200.0"
        ],
        [
         "2",
         "2022-09-01",
         "200.0"
        ],
        [
         "3",
         "2022-10-01",
         "200.0"
        ],
        [
         "4",
         "2022-11-01",
         "200.0"
        ],
        [
         "5",
         "2022-12-01",
         "0.0"
        ]
       ],
       "shape": {
        "columns": 2,
        "rows": 6
       }
      },
      "text/html": [
       "<div>\n",
       "<style scoped>\n",
       "    .dataframe tbody tr th:only-of-type {\n",
       "        vertical-align: middle;\n",
       "    }\n",
       "\n",
       "    .dataframe tbody tr th {\n",
       "        vertical-align: top;\n",
       "    }\n",
       "\n",
       "    .dataframe thead th {\n",
       "        text-align: right;\n",
       "    }\n",
       "</style>\n",
       "<table border=\"1\" class=\"dataframe\">\n",
       "  <thead>\n",
       "    <tr style=\"text-align: right;\">\n",
       "      <th></th>\n",
       "      <th>date_obs_elab</th>\n",
       "      <th>prod_hydro</th>\n",
       "    </tr>\n",
       "  </thead>\n",
       "  <tbody>\n",
       "    <tr>\n",
       "      <th>0</th>\n",
       "      <td>2026-08-01</td>\n",
       "      <td>-200.0</td>\n",
       "    </tr>\n",
       "    <tr>\n",
       "      <th>1</th>\n",
       "      <td>2022-08-01</td>\n",
       "      <td>200.0</td>\n",
       "    </tr>\n",
       "    <tr>\n",
       "      <th>2</th>\n",
       "      <td>2022-09-01</td>\n",
       "      <td>200.0</td>\n",
       "    </tr>\n",
       "    <tr>\n",
       "      <th>3</th>\n",
       "      <td>2022-10-01</td>\n",
       "      <td>200.0</td>\n",
       "    </tr>\n",
       "    <tr>\n",
       "      <th>4</th>\n",
       "      <td>2022-11-01</td>\n",
       "      <td>200.0</td>\n",
       "    </tr>\n",
       "    <tr>\n",
       "      <th>5</th>\n",
       "      <td>2022-12-01</td>\n",
       "      <td>0.0</td>\n",
       "    </tr>\n",
       "  </tbody>\n",
       "</table>\n",
       "</div>"
      ],
      "text/plain": [
       "  date_obs_elab  prod_hydro\n",
       "0    2026-08-01      -200.0\n",
       "1    2022-08-01       200.0\n",
       "2    2022-09-01       200.0\n",
       "3    2022-10-01       200.0\n",
       "4    2022-11-01       200.0\n",
       "5    2022-12-01         0.0"
      ]
     },
     "metadata": {},
     "output_type": "display_data"
    }
   ],
   "source": [
    "df = pd.read_csv(\"~/production_enr/data/prod_hydro.csv\")\n",
    "display(df.head(6))"
   ]
  },
  {
   "cell_type": "markdown",
   "id": "2328a618",
   "metadata": {},
   "source": [
    "## 2. Dimensions et types de variables"
   ]
  },
  {
   "cell_type": "code",
   "execution_count": 12,
   "id": "4955f254",
   "metadata": {},
   "outputs": [
    {
     "data": {
      "application/vnd.microsoft.datawrangler.viewer.v0+json": {
       "columns": [
        {
         "name": "index",
         "rawType": "object",
         "type": "string"
        },
        {
         "name": "0",
         "rawType": "object",
         "type": "unknown"
        }
       ],
       "ref": "893cbe97-7987-418f-9a63-056aaf627d34",
       "rows": [
        [
         "date_obs_elab",
         "object"
        ],
        [
         "prod_hydro",
         "float64"
        ]
       ],
       "shape": {
        "columns": 1,
        "rows": 2
       }
      },
      "text/plain": [
       "date_obs_elab     object\n",
       "prod_hydro       float64\n",
       "dtype: object"
      ]
     },
     "execution_count": 12,
     "metadata": {},
     "output_type": "execute_result"
    }
   ],
   "source": [
    "df.dtypes"
   ]
  },
  {
   "cell_type": "markdown",
   "id": "045f4924",
   "metadata": {},
   "source": [
    "## 3. Valeurs manquantes"
   ]
  },
  {
   "cell_type": "code",
   "execution_count": 13,
   "id": "14e50d47",
   "metadata": {},
   "outputs": [
    {
     "name": "stdout",
     "output_type": "stream",
     "text": [
      "Missing values: date_obs_elab    0\n",
      "prod_hydro       0\n",
      "dtype: int64\n"
     ]
    }
   ],
   "source": [
    "missing = df.isna().sum()\n",
    "\n",
    "print(f\"Missing values: {missing}\")"
   ]
  },
  {
   "cell_type": "markdown",
   "id": "3522d11f",
   "metadata": {},
   "source": [
    "## 4. Statistiques descriptives"
   ]
  },
  {
   "cell_type": "code",
   "execution_count": 14,
   "id": "cdd5b071",
   "metadata": {},
   "outputs": [
    {
     "data": {
      "application/vnd.microsoft.datawrangler.viewer.v0+json": {
       "columns": [
        {
         "name": "index",
         "rawType": "object",
         "type": "string"
        },
        {
         "name": "prod_hydro",
         "rawType": "float64",
         "type": "float"
        }
       ],
       "ref": "c6a08bb3-3451-4501-8d21-0f1c65741255",
       "rows": [
        [
         "count",
         "997.0"
        ],
        [
         "mean",
         "191.74558780385482"
        ],
        [
         "std",
         "72.25597340624114"
        ],
        [
         "min",
         "-200.0"
        ],
        [
         "25%",
         "200.0"
        ],
        [
         "50%",
         "200.0"
        ],
        [
         "75%",
         "200.0"
        ],
        [
         "max",
         "2000.0"
        ]
       ],
       "shape": {
        "columns": 1,
        "rows": 8
       }
      },
      "text/html": [
       "<div>\n",
       "<style scoped>\n",
       "    .dataframe tbody tr th:only-of-type {\n",
       "        vertical-align: middle;\n",
       "    }\n",
       "\n",
       "    .dataframe tbody tr th {\n",
       "        vertical-align: top;\n",
       "    }\n",
       "\n",
       "    .dataframe thead th {\n",
       "        text-align: right;\n",
       "    }\n",
       "</style>\n",
       "<table border=\"1\" class=\"dataframe\">\n",
       "  <thead>\n",
       "    <tr style=\"text-align: right;\">\n",
       "      <th></th>\n",
       "      <th>prod_hydro</th>\n",
       "    </tr>\n",
       "  </thead>\n",
       "  <tbody>\n",
       "    <tr>\n",
       "      <th>count</th>\n",
       "      <td>997.000000</td>\n",
       "    </tr>\n",
       "    <tr>\n",
       "      <th>mean</th>\n",
       "      <td>191.745588</td>\n",
       "    </tr>\n",
       "    <tr>\n",
       "      <th>std</th>\n",
       "      <td>72.255973</td>\n",
       "    </tr>\n",
       "    <tr>\n",
       "      <th>min</th>\n",
       "      <td>-200.000000</td>\n",
       "    </tr>\n",
       "    <tr>\n",
       "      <th>25%</th>\n",
       "      <td>200.000000</td>\n",
       "    </tr>\n",
       "    <tr>\n",
       "      <th>50%</th>\n",
       "      <td>200.000000</td>\n",
       "    </tr>\n",
       "    <tr>\n",
       "      <th>75%</th>\n",
       "      <td>200.000000</td>\n",
       "    </tr>\n",
       "    <tr>\n",
       "      <th>max</th>\n",
       "      <td>2000.000000</td>\n",
       "    </tr>\n",
       "  </tbody>\n",
       "</table>\n",
       "</div>"
      ],
      "text/plain": [
       "        prod_hydro\n",
       "count   997.000000\n",
       "mean    191.745588\n",
       "std      72.255973\n",
       "min    -200.000000\n",
       "25%     200.000000\n",
       "50%     200.000000\n",
       "75%     200.000000\n",
       "max    2000.000000"
      ]
     },
     "metadata": {},
     "output_type": "display_data"
    }
   ],
   "source": [
    "display(df.describe())"
   ]
  },
  {
   "cell_type": "markdown",
   "id": "42eb33b5",
   "metadata": {},
   "source": [
    "## 5. Valeurs aberrantes\n",
    "- **d’une centrale hydro (200 kW nominaux)**"
   ]
  },
  {
   "cell_type": "code",
   "execution_count": null,
   "id": "d5ae530f",
   "metadata": {},
   "outputs": [
    {
     "data": {
      "application/vnd.microsoft.datawrangler.viewer.v0+json": {
       "columns": [
        {
         "name": "index",
         "rawType": "int64",
         "type": "integer"
        },
        {
         "name": "date_obs_elab",
         "rawType": "object",
         "type": "string"
        },
        {
         "name": "prod_hydro",
         "rawType": "float64",
         "type": "float"
        }
       ],
       "ref": "16d1acad-84e8-4781-8ee2-c83b1aad8e3e",
       "rows": [
        [
         "1",
         "2022-08-01",
         "200.0"
        ],
        [
         "2",
         "2022-09-01",
         "200.0"
        ],
        [
         "3",
         "2022-10-01",
         "200.0"
        ],
        [
         "4",
         "2022-11-01",
         "200.0"
        ],
        [
         "5",
         "2022-12-01",
         "0.0"
        ],
        [
         "6",
         "2023-01-01",
         "200.0"
        ],
        [
         "7",
         "2023-02-01",
         "200.0"
        ],
        [
         "8",
         "2023-03-01",
         "200.0"
        ],
        [
         "9",
         "2023-04-01",
         "200.0"
        ],
        [
         "10",
         "2023-06-01",
         "200.0"
        ],
        [
         "11",
         "2023-07-01",
         "200.0"
        ],
        [
         "12",
         "2023-08-01",
         "200.0"
        ],
        [
         "13",
         "2023-09-01",
         "200.0"
        ],
        [
         "14",
         "2023-10-01",
         "200.0"
        ],
        [
         "15",
         "2023-11-01",
         "200.0"
        ],
        [
         "16",
         "2023-12-01",
         "200.0"
        ],
        [
         "17",
         "2024-01-01",
         "200.0"
        ],
        [
         "18",
         "2024-02-01",
         "200.0"
        ],
        [
         "19",
         "2024-03-01",
         "200.0"
        ],
        [
         "20",
         "2024-04-01",
         "200.0"
        ],
        [
         "21",
         "2024-05-01",
         "200.0"
        ],
        [
         "22",
         "2024-06-01",
         "200.0"
        ],
        [
         "23",
         "2024-07-01",
         "200.0"
        ],
        [
         "24",
         "2024-08-01",
         "200.0"
        ],
        [
         "25",
         "2024-09-01",
         "200.0"
        ],
        [
         "26",
         "2024-10-01",
         "200.0"
        ],
        [
         "27",
         "2024-11-01",
         "200.0"
        ],
        [
         "28",
         "2024-12-01",
         "200.0"
        ],
        [
         "29",
         "2025-01-01",
         "200.0"
        ],
        [
         "30",
         "2025-02-01",
         "200.0"
        ],
        [
         "31",
         "2025-03-01",
         "200.0"
        ],
        [
         "32",
         "2025-04-01",
         "200.0"
        ],
        [
         "33",
         "2025-05-01",
         "200.0"
        ],
        [
         "34",
         "2025-06-01",
         "200.0"
        ],
        [
         "35",
         "2025-07-01",
         "200.0"
        ],
        [
         "36",
         "2025-08-01",
         "200.0"
        ],
        [
         "37",
         "2022-07-07",
         "100.8238659464952"
        ],
        [
         "38",
         "2022-07-08",
         "111.46747529900075"
        ],
        [
         "39",
         "2022-07-09",
         "196.4341685705743"
        ],
        [
         "40",
         "2022-07-10",
         "200.0"
        ],
        [
         "41",
         "2022-07-11",
         "200.0"
        ],
        [
         "42",
         "2022-07-12",
         "198.1027959405796"
        ],
        [
         "43",
         "2022-07-13",
         "0.0"
        ],
        [
         "44",
         "2022-07-14",
         "155.95562896955514"
        ],
        [
         "45",
         "2022-07-15",
         "181.9727672231219"
        ],
        [
         "46",
         "2022-07-16",
         "182.0848584600398"
        ],
        [
         "47",
         "2022-07-17",
         "200.0"
        ],
        [
         "48",
         "2022-07-18",
         "200.0"
        ],
        [
         "49",
         "2022-07-19",
         "150.93362401793505"
        ],
        [
         "50",
         "2022-07-20",
         "200.0"
        ]
       ],
       "shape": {
        "columns": 2,
        "rows": 995
       }
      },
      "text/html": [
       "<div>\n",
       "<style scoped>\n",
       "    .dataframe tbody tr th:only-of-type {\n",
       "        vertical-align: middle;\n",
       "    }\n",
       "\n",
       "    .dataframe tbody tr th {\n",
       "        vertical-align: top;\n",
       "    }\n",
       "\n",
       "    .dataframe thead th {\n",
       "        text-align: right;\n",
       "    }\n",
       "</style>\n",
       "<table border=\"1\" class=\"dataframe\">\n",
       "  <thead>\n",
       "    <tr style=\"text-align: right;\">\n",
       "      <th></th>\n",
       "      <th>date_obs_elab</th>\n",
       "      <th>prod_hydro</th>\n",
       "    </tr>\n",
       "  </thead>\n",
       "  <tbody>\n",
       "    <tr>\n",
       "      <th>1</th>\n",
       "      <td>2022-08-01</td>\n",
       "      <td>200.0</td>\n",
       "    </tr>\n",
       "    <tr>\n",
       "      <th>2</th>\n",
       "      <td>2022-09-01</td>\n",
       "      <td>200.0</td>\n",
       "    </tr>\n",
       "    <tr>\n",
       "      <th>3</th>\n",
       "      <td>2022-10-01</td>\n",
       "      <td>200.0</td>\n",
       "    </tr>\n",
       "    <tr>\n",
       "      <th>4</th>\n",
       "      <td>2022-11-01</td>\n",
       "      <td>200.0</td>\n",
       "    </tr>\n",
       "    <tr>\n",
       "      <th>5</th>\n",
       "      <td>2022-12-01</td>\n",
       "      <td>0.0</td>\n",
       "    </tr>\n",
       "    <tr>\n",
       "      <th>...</th>\n",
       "      <td>...</td>\n",
       "      <td>...</td>\n",
       "    </tr>\n",
       "    <tr>\n",
       "      <th>992</th>\n",
       "      <td>2025-02-19</td>\n",
       "      <td>200.0</td>\n",
       "    </tr>\n",
       "    <tr>\n",
       "      <th>993</th>\n",
       "      <td>2025-02-20</td>\n",
       "      <td>200.0</td>\n",
       "    </tr>\n",
       "    <tr>\n",
       "      <th>994</th>\n",
       "      <td>2025-02-21</td>\n",
       "      <td>200.0</td>\n",
       "    </tr>\n",
       "    <tr>\n",
       "      <th>995</th>\n",
       "      <td>2025-02-22</td>\n",
       "      <td>0.0</td>\n",
       "    </tr>\n",
       "    <tr>\n",
       "      <th>996</th>\n",
       "      <td>2025-02-23</td>\n",
       "      <td>0.0</td>\n",
       "    </tr>\n",
       "  </tbody>\n",
       "</table>\n",
       "<p>995 rows × 2 columns</p>\n",
       "</div>"
      ],
      "text/plain": [
       "    date_obs_elab  prod_hydro\n",
       "1      2022-08-01       200.0\n",
       "2      2022-09-01       200.0\n",
       "3      2022-10-01       200.0\n",
       "4      2022-11-01       200.0\n",
       "5      2022-12-01         0.0\n",
       "..            ...         ...\n",
       "992    2025-02-19       200.0\n",
       "993    2025-02-20       200.0\n",
       "994    2025-02-21       200.0\n",
       "995    2025-02-22         0.0\n",
       "996    2025-02-23         0.0\n",
       "\n",
       "[995 rows x 2 columns]"
      ]
     },
     "metadata": {},
     "output_type": "display_data"
    },
    {
     "data": {
      "application/vnd.microsoft.datawrangler.viewer.v0+json": {
       "columns": [
        {
         "name": "index",
         "rawType": "object",
         "type": "string"
        },
        {
         "name": "prod_hydro",
         "rawType": "float64",
         "type": "float"
        }
       ],
       "ref": "08cbc4db-71b8-4a1e-b77a-4e7912b9ad4d",
       "rows": [
        [
         "count",
         "997.0"
        ],
        [
         "mean",
         "191.74558780385482"
        ],
        [
         "std",
         "72.25597340624114"
        ],
        [
         "min",
         "-200.0"
        ],
        [
         "25%",
         "200.0"
        ],
        [
         "50%",
         "200.0"
        ],
        [
         "75%",
         "200.0"
        ],
        [
         "max",
         "2000.0"
        ]
       ],
       "shape": {
        "columns": 1,
        "rows": 8
       }
      },
      "text/html": [
       "<div>\n",
       "<style scoped>\n",
       "    .dataframe tbody tr th:only-of-type {\n",
       "        vertical-align: middle;\n",
       "    }\n",
       "\n",
       "    .dataframe tbody tr th {\n",
       "        vertical-align: top;\n",
       "    }\n",
       "\n",
       "    .dataframe thead th {\n",
       "        text-align: right;\n",
       "    }\n",
       "</style>\n",
       "<table border=\"1\" class=\"dataframe\">\n",
       "  <thead>\n",
       "    <tr style=\"text-align: right;\">\n",
       "      <th></th>\n",
       "      <th>prod_hydro</th>\n",
       "    </tr>\n",
       "  </thead>\n",
       "  <tbody>\n",
       "    <tr>\n",
       "      <th>count</th>\n",
       "      <td>997.000000</td>\n",
       "    </tr>\n",
       "    <tr>\n",
       "      <th>mean</th>\n",
       "      <td>191.745588</td>\n",
       "    </tr>\n",
       "    <tr>\n",
       "      <th>std</th>\n",
       "      <td>72.255973</td>\n",
       "    </tr>\n",
       "    <tr>\n",
       "      <th>min</th>\n",
       "      <td>-200.000000</td>\n",
       "    </tr>\n",
       "    <tr>\n",
       "      <th>25%</th>\n",
       "      <td>200.000000</td>\n",
       "    </tr>\n",
       "    <tr>\n",
       "      <th>50%</th>\n",
       "      <td>200.000000</td>\n",
       "    </tr>\n",
       "    <tr>\n",
       "      <th>75%</th>\n",
       "      <td>200.000000</td>\n",
       "    </tr>\n",
       "    <tr>\n",
       "      <th>max</th>\n",
       "      <td>2000.000000</td>\n",
       "    </tr>\n",
       "  </tbody>\n",
       "</table>\n",
       "</div>"
      ],
      "text/plain": [
       "        prod_hydro\n",
       "count   997.000000\n",
       "mean    191.745588\n",
       "std      72.255973\n",
       "min    -200.000000\n",
       "25%     200.000000\n",
       "50%     200.000000\n",
       "75%     200.000000\n",
       "max    2000.000000"
      ]
     },
     "metadata": {},
     "output_type": "display_data"
    }
   ],
   "source": [
    "df_clean = df[(df['prod_hydro'] <= 200)  & (df['prod_hydro'] >= 0)]\n",
    "display(df_clean)\n",
    "# j'ai supprimé la valeur abberante\n",
    "display(df_clean.describe())"
   ]
  }
 ],
 "metadata": {
  "kernelspec": {
   "display_name": ".venv",
   "language": "python",
   "name": "python3"
  },
  "language_info": {
   "codemirror_mode": {
    "name": "ipython",
    "version": 3
   },
   "file_extension": ".py",
   "mimetype": "text/x-python",
   "name": "python",
   "nbconvert_exporter": "python",
   "pygments_lexer": "ipython3",
   "version": "3.12.3"
  }
 },
 "nbformat": 4,
 "nbformat_minor": 5
}
