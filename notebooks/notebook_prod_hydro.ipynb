{
 "cells": [
  {
   "cell_type": "markdown",
   "id": "4fa3764c",
   "metadata": {},
   "source": [
    "# 📊 Prévision de la production hydro-électrique\n",
    "\n",
    "Dans cette section, nous allons nous concentrer sur **la centrale hydro-électrique située dans la région de Montpellier**.  \n",
    "L’objectif est de prédire la **production quotidienne d’énergie** à partir de données environnementales et hydrologiques locales.\n",
    "\n",
    "- `date_obs_elab` : date de l’observation (YYYY-MM-DD)  \n",
    "- `prod_hydro` : production d’énergie (kWh ou MWh)  \n"
   ]
  },
  {
   "cell_type": "markdown",
   "id": "7e1308ec",
   "metadata": {},
   "source": [
    "## Import "
   ]
  },
  {
   "cell_type": "code",
   "execution_count": 37,
   "id": "496a123a",
   "metadata": {},
   "outputs": [],
   "source": [
    "import pandas as pd\n",
    "import matplotlib.pyplot as plt"
   ]
  },
  {
   "cell_type": "markdown",
   "id": "63ac58dd",
   "metadata": {},
   "source": [
    "## 1. Chargement des données"
   ]
  },
  {
   "cell_type": "code",
   "execution_count": 38,
   "id": "7adbe8b2",
   "metadata": {},
   "outputs": [
    {
     "data": {
      "application/vnd.microsoft.datawrangler.viewer.v0+json": {
       "columns": [
        {
         "name": "index",
         "rawType": "int64",
         "type": "integer"
        },
        {
         "name": "date_obs_elab",
         "rawType": "object",
         "type": "string"
        },
        {
         "name": "prod_hydro",
         "rawType": "float64",
         "type": "float"
        }
       ],
       "ref": "07fdd258-32cc-4b65-82b6-6d35f7b3c459",
       "rows": [
        [
         "0",
         "2022-08-01",
         "200.0"
        ],
        [
         "1",
         "2022-09-01",
         "200.0"
        ],
        [
         "2",
         "2022-10-01",
         "200.0"
        ],
        [
         "3",
         "2022-11-01",
         "200.0"
        ],
        [
         "4",
         "2022-12-01",
         "0.0"
        ],
        [
         "5",
         "2023-01-01",
         "200.0"
        ]
       ],
       "shape": {
        "columns": 2,
        "rows": 6
       }
      },
      "text/html": [
       "<div>\n",
       "<style scoped>\n",
       "    .dataframe tbody tr th:only-of-type {\n",
       "        vertical-align: middle;\n",
       "    }\n",
       "\n",
       "    .dataframe tbody tr th {\n",
       "        vertical-align: top;\n",
       "    }\n",
       "\n",
       "    .dataframe thead th {\n",
       "        text-align: right;\n",
       "    }\n",
       "</style>\n",
       "<table border=\"1\" class=\"dataframe\">\n",
       "  <thead>\n",
       "    <tr style=\"text-align: right;\">\n",
       "      <th></th>\n",
       "      <th>date_obs_elab</th>\n",
       "      <th>prod_hydro</th>\n",
       "    </tr>\n",
       "  </thead>\n",
       "  <tbody>\n",
       "    <tr>\n",
       "      <th>0</th>\n",
       "      <td>2022-08-01</td>\n",
       "      <td>200.0</td>\n",
       "    </tr>\n",
       "    <tr>\n",
       "      <th>1</th>\n",
       "      <td>2022-09-01</td>\n",
       "      <td>200.0</td>\n",
       "    </tr>\n",
       "    <tr>\n",
       "      <th>2</th>\n",
       "      <td>2022-10-01</td>\n",
       "      <td>200.0</td>\n",
       "    </tr>\n",
       "    <tr>\n",
       "      <th>3</th>\n",
       "      <td>2022-11-01</td>\n",
       "      <td>200.0</td>\n",
       "    </tr>\n",
       "    <tr>\n",
       "      <th>4</th>\n",
       "      <td>2022-12-01</td>\n",
       "      <td>0.0</td>\n",
       "    </tr>\n",
       "    <tr>\n",
       "      <th>5</th>\n",
       "      <td>2023-01-01</td>\n",
       "      <td>200.0</td>\n",
       "    </tr>\n",
       "  </tbody>\n",
       "</table>\n",
       "</div>"
      ],
      "text/plain": [
       "  date_obs_elab  prod_hydro\n",
       "0    2022-08-01       200.0\n",
       "1    2022-09-01       200.0\n",
       "2    2022-10-01       200.0\n",
       "3    2022-11-01       200.0\n",
       "4    2022-12-01         0.0\n",
       "5    2023-01-01       200.0"
      ]
     },
     "metadata": {},
     "output_type": "display_data"
    }
   ],
   "source": [
    "df = pd.read_csv(\"~/production_enr/data/prod_hydro.csv\")\n",
    "display(df.head(6))"
   ]
  },
  {
   "cell_type": "markdown",
   "id": "2328a618",
   "metadata": {},
   "source": [
    "## 2. Dimensions et types de variables"
   ]
  },
  {
   "cell_type": "code",
   "execution_count": 39,
   "id": "4955f254",
   "metadata": {},
   "outputs": [
    {
     "data": {
      "application/vnd.microsoft.datawrangler.viewer.v0+json": {
       "columns": [
        {
         "name": "index",
         "rawType": "object",
         "type": "string"
        },
        {
         "name": "0",
         "rawType": "object",
         "type": "unknown"
        }
       ],
       "ref": "d3affe89-db53-4cf7-8a27-8650ed4a705b",
       "rows": [
        [
         "date_obs_elab",
         "object"
        ],
        [
         "prod_hydro",
         "float64"
        ]
       ],
       "shape": {
        "columns": 1,
        "rows": 2
       }
      },
      "text/plain": [
       "date_obs_elab     object\n",
       "prod_hydro       float64\n",
       "dtype: object"
      ]
     },
     "execution_count": 39,
     "metadata": {},
     "output_type": "execute_result"
    }
   ],
   "source": [
    "df.dtypes"
   ]
  },
  {
   "cell_type": "markdown",
   "id": "045f4924",
   "metadata": {},
   "source": [
    "## 3. Valeurs manquantes"
   ]
  },
  {
   "cell_type": "code",
   "execution_count": 40,
   "id": "14e50d47",
   "metadata": {},
   "outputs": [
    {
     "name": "stdout",
     "output_type": "stream",
     "text": [
      "Missing values: date_obs_elab    0\n",
      "prod_hydro       0\n",
      "dtype: int64\n"
     ]
    }
   ],
   "source": [
    "missing = df.isna().sum()\n",
    "\n",
    "print(f\"Missing values: {missing}\")"
   ]
  },
  {
   "cell_type": "markdown",
   "id": "3522d11f",
   "metadata": {},
   "source": [
    "## 4. Statistiques descriptives"
   ]
  },
  {
   "cell_type": "code",
   "execution_count": 41,
   "id": "cdd5b071",
   "metadata": {},
   "outputs": [
    {
     "data": {
      "application/vnd.microsoft.datawrangler.viewer.v0+json": {
       "columns": [
        {
         "name": "index",
         "rawType": "object",
         "type": "string"
        },
        {
         "name": "prod_hydro",
         "rawType": "float64",
         "type": "float"
        }
       ],
       "ref": "b43decde-fd69-4255-a1ce-7d30556d3edb",
       "rows": [
        [
         "count",
         "996.0"
        ],
        [
         "mean",
         "192.1389066671117"
        ],
        [
         "std",
         "71.21644623745476"
        ],
        [
         "min",
         "0.0"
        ],
        [
         "25%",
         "200.0"
        ],
        [
         "50%",
         "200.0"
        ],
        [
         "75%",
         "200.0"
        ],
        [
         "max",
         "2000.0"
        ]
       ],
       "shape": {
        "columns": 1,
        "rows": 8
       }
      },
      "text/html": [
       "<div>\n",
       "<style scoped>\n",
       "    .dataframe tbody tr th:only-of-type {\n",
       "        vertical-align: middle;\n",
       "    }\n",
       "\n",
       "    .dataframe tbody tr th {\n",
       "        vertical-align: top;\n",
       "    }\n",
       "\n",
       "    .dataframe thead th {\n",
       "        text-align: right;\n",
       "    }\n",
       "</style>\n",
       "<table border=\"1\" class=\"dataframe\">\n",
       "  <thead>\n",
       "    <tr style=\"text-align: right;\">\n",
       "      <th></th>\n",
       "      <th>prod_hydro</th>\n",
       "    </tr>\n",
       "  </thead>\n",
       "  <tbody>\n",
       "    <tr>\n",
       "      <th>count</th>\n",
       "      <td>996.000000</td>\n",
       "    </tr>\n",
       "    <tr>\n",
       "      <th>mean</th>\n",
       "      <td>192.138907</td>\n",
       "    </tr>\n",
       "    <tr>\n",
       "      <th>std</th>\n",
       "      <td>71.216446</td>\n",
       "    </tr>\n",
       "    <tr>\n",
       "      <th>min</th>\n",
       "      <td>0.000000</td>\n",
       "    </tr>\n",
       "    <tr>\n",
       "      <th>25%</th>\n",
       "      <td>200.000000</td>\n",
       "    </tr>\n",
       "    <tr>\n",
       "      <th>50%</th>\n",
       "      <td>200.000000</td>\n",
       "    </tr>\n",
       "    <tr>\n",
       "      <th>75%</th>\n",
       "      <td>200.000000</td>\n",
       "    </tr>\n",
       "    <tr>\n",
       "      <th>max</th>\n",
       "      <td>2000.000000</td>\n",
       "    </tr>\n",
       "  </tbody>\n",
       "</table>\n",
       "</div>"
      ],
      "text/plain": [
       "        prod_hydro\n",
       "count   996.000000\n",
       "mean    192.138907\n",
       "std      71.216446\n",
       "min       0.000000\n",
       "25%     200.000000\n",
       "50%     200.000000\n",
       "75%     200.000000\n",
       "max    2000.000000"
      ]
     },
     "metadata": {},
     "output_type": "display_data"
    }
   ],
   "source": [
    "display(df.describe())"
   ]
  },
  {
   "cell_type": "markdown",
   "id": "42eb33b5",
   "metadata": {},
   "source": [
    "## 5. Valeurs aberrantes\n",
    "- **d’une centrale hydro (200 kW nominaux)**"
   ]
  },
  {
   "cell_type": "code",
   "execution_count": 42,
   "id": "d5ae530f",
   "metadata": {},
   "outputs": [],
   "source": [
    "median = df['prod_hydro'].median()\n",
    "\n",
    "df['prod_hydro'] = df['prod_hydro'].apply(lambda x: median if x > 200 else x)"
   ]
  },
  {
   "cell_type": "markdown",
   "id": "f753059f",
   "metadata": {},
   "source": [
    "## 4. Visualisation"
   ]
  },
  {
   "cell_type": "markdown",
   "id": "d17d5266",
   "metadata": {},
   "source": [
    "wip"
   ]
  }
 ],
 "metadata": {
  "kernelspec": {
   "display_name": ".venv",
   "language": "python",
   "name": "python3"
  },
  "language_info": {
   "codemirror_mode": {
    "name": "ipython",
    "version": 3
   },
   "file_extension": ".py",
   "mimetype": "text/x-python",
   "name": "python",
   "nbconvert_exporter": "python",
   "pygments_lexer": "ipython3",
   "version": "3.12.3"
  }
 },
 "nbformat": 4,
 "nbformat_minor": 5
}
