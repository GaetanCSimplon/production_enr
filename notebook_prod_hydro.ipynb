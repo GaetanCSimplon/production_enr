{
 "cells": [
  {
   "cell_type": "markdown",
   "id": "4fa3764c",
   "metadata": {},
   "source": [
    "# 📊 Prévision de la production hydro-électrique\n",
    "\n",
    "Dans cette section, nous allons nous concentrer sur **la centrale hydro-électrique située dans la région de Montpellier**.  \n",
    "L’objectif est de prédire la **production quotidienne d’énergie** à partir de données environnementales et hydrologiques locales.\n"
   ]
  }
 ],
 "metadata": {
  "language_info": {
   "name": "python"
  }
 },
 "nbformat": 4,
 "nbformat_minor": 5
}
