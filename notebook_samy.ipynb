{
 "cells": [
  {
   "cell_type": "markdown",
   "id": "7aaa3bd0",
   "metadata": {},
   "source": [
    "# Recherche de production solaire"
   ]
  },
  {
   "cell_type": "code",
   "execution_count": 4,
   "id": "99fe6ba0",
   "metadata": {},
   "outputs": [
    {
     "data": {
      "application/vnd.microsoft.datawrangler.viewer.v0+json": {
       "columns": [
        {
         "name": "index",
         "rawType": "int64",
         "type": "integer"
        },
        {
         "name": "date",
         "rawType": "object",
         "type": "string"
        },
        {
         "name": "prod_solaire",
         "rawType": "float64",
         "type": "float"
        }
       ],
       "ref": "470d8d09-9b31-4295-b18a-a75e8ecce4a2",
       "rows": [
        [
         "0",
         "2016-09-01",
         "77.16331032352238"
        ],
        [
         "1",
         "2016-09-02",
         "72.37163180076168"
        ],
        [
         "2",
         "2016-09-03",
         "31.90604943235908"
        ],
        [
         "3",
         "2016-09-04",
         "22.494454140090262"
        ],
        [
         "4",
         "2016-09-05",
         "68.10519551131236"
        ],
        [
         "5",
         "2016-09-06",
         "68.87419758910656"
        ],
        [
         "6",
         "2016-09-07",
         "84.96376817040901"
        ],
        [
         "7",
         "2016-09-08",
         "69.97236871563246"
        ],
        [
         "8",
         "2016-09-09",
         "0.0"
        ],
        [
         "9",
         "2016-09-10",
         "69.93811569508031"
        ],
        [
         "10",
         "2016-09-11",
         "56.966091174238805"
        ],
        [
         "11",
         "2016-09-12",
         "59.87856909608534"
        ],
        [
         "12",
         "2016-09-13",
         "65.68014264485171"
        ],
        [
         "13",
         "2016-09-14",
         "12.806683537384451"
        ],
        [
         "14",
         "2016-09-15",
         "44.963023505969566"
        ],
        [
         "15",
         "2016-09-16",
         "49.15727622120194"
        ],
        [
         "16",
         "2016-09-17",
         "47.021441047683496"
        ],
        [
         "17",
         "2016-09-18",
         "51.87013788296223"
        ],
        [
         "18",
         "2016-09-19",
         "551.9080831173968"
        ],
        [
         "19",
         "2016-09-20",
         "47.25786611249234"
        ],
        [
         "20",
         "2016-09-21",
         "71.52225627115936"
        ],
        [
         "21",
         "2016-09-22",
         "59.9182430479307"
        ],
        [
         "22",
         "2016-09-23",
         "53.92721789411445"
        ],
        [
         "23",
         "2016-09-24",
         "43.33458504757136"
        ],
        [
         "24",
         "2016-09-25",
         "40.15462127390605"
        ],
        [
         "25",
         "2016-09-26",
         "54.98353037170005"
        ],
        [
         "26",
         "2016-09-27",
         "47.52049026092008"
        ],
        [
         "27",
         "2016-09-28",
         "60.814045636510926"
        ],
        [
         "28",
         "2016-09-29",
         "52.35272153239065"
        ],
        [
         "29",
         "2016-09-30",
         "23.7266590340427"
        ],
        [
         "30",
         "2016-10-01",
         "27.2741978543668"
        ],
        [
         "31",
         "2016-10-02",
         "47.81300222746468"
        ],
        [
         "32",
         "2016-10-03",
         "55.8627673261546"
        ],
        [
         "33",
         "2016-10-04",
         "46.815785938263176"
        ],
        [
         "34",
         "2016-10-05",
         "57.02691486025453"
        ],
        [
         "35",
         "2016-10-06",
         "14.238332090464208"
        ],
        [
         "36",
         "2016-10-07",
         "48.519055681217154"
        ],
        [
         "37",
         "2016-10-08",
         "37.55283098378785"
        ],
        [
         "38",
         "2016-10-09",
         "0.0"
        ],
        [
         "39",
         "2016-10-10",
         "53.014600482236105"
        ],
        [
         "40",
         "2016-10-11",
         "56.97674734110014"
        ],
        [
         "41",
         "2016-10-12",
         "38.58313543785642"
        ],
        [
         "42",
         "2016-10-13",
         "5.676498012138553"
        ],
        [
         "43",
         "2016-10-14",
         "6.755231002391957"
        ],
        [
         "44",
         "2016-10-15",
         "34.51873151163239"
        ],
        [
         "45",
         "2016-10-16",
         "27.63140116318594"
        ],
        [
         "46",
         "2016-10-17",
         "14.68059387679665"
        ],
        [
         "47",
         "2016-10-18",
         "27.00173119796101"
        ],
        [
         "48",
         "2016-10-19",
         "49.40016540374853"
        ],
        [
         "49",
         "2016-10-20",
         "33.3339152785352"
        ]
       ],
       "shape": {
        "columns": 2,
        "rows": 3312
       }
      },
      "text/html": [
       "<div>\n",
       "<style scoped>\n",
       "    .dataframe tbody tr th:only-of-type {\n",
       "        vertical-align: middle;\n",
       "    }\n",
       "\n",
       "    .dataframe tbody tr th {\n",
       "        vertical-align: top;\n",
       "    }\n",
       "\n",
       "    .dataframe thead th {\n",
       "        text-align: right;\n",
       "    }\n",
       "</style>\n",
       "<table border=\"1\" class=\"dataframe\">\n",
       "  <thead>\n",
       "    <tr style=\"text-align: right;\">\n",
       "      <th></th>\n",
       "      <th>date</th>\n",
       "      <th>prod_solaire</th>\n",
       "    </tr>\n",
       "  </thead>\n",
       "  <tbody>\n",
       "    <tr>\n",
       "      <th>0</th>\n",
       "      <td>2016-09-01</td>\n",
       "      <td>77.163310</td>\n",
       "    </tr>\n",
       "    <tr>\n",
       "      <th>1</th>\n",
       "      <td>2016-09-02</td>\n",
       "      <td>72.371632</td>\n",
       "    </tr>\n",
       "    <tr>\n",
       "      <th>2</th>\n",
       "      <td>2016-09-03</td>\n",
       "      <td>31.906049</td>\n",
       "    </tr>\n",
       "    <tr>\n",
       "      <th>3</th>\n",
       "      <td>2016-09-04</td>\n",
       "      <td>22.494454</td>\n",
       "    </tr>\n",
       "    <tr>\n",
       "      <th>4</th>\n",
       "      <td>2016-09-05</td>\n",
       "      <td>68.105196</td>\n",
       "    </tr>\n",
       "    <tr>\n",
       "      <th>...</th>\n",
       "      <td>...</td>\n",
       "      <td>...</td>\n",
       "    </tr>\n",
       "    <tr>\n",
       "      <th>3307</th>\n",
       "      <td>2025-09-25</td>\n",
       "      <td>50.075232</td>\n",
       "    </tr>\n",
       "    <tr>\n",
       "      <th>3308</th>\n",
       "      <td>2025-09-26</td>\n",
       "      <td>44.815599</td>\n",
       "    </tr>\n",
       "    <tr>\n",
       "      <th>3309</th>\n",
       "      <td>2025-09-27</td>\n",
       "      <td>46.526905</td>\n",
       "    </tr>\n",
       "    <tr>\n",
       "      <th>3310</th>\n",
       "      <td>2025-09-28</td>\n",
       "      <td>NaN</td>\n",
       "    </tr>\n",
       "    <tr>\n",
       "      <th>3311</th>\n",
       "      <td>2025-09-29</td>\n",
       "      <td>NaN</td>\n",
       "    </tr>\n",
       "  </tbody>\n",
       "</table>\n",
       "<p>3312 rows × 2 columns</p>\n",
       "</div>"
      ],
      "text/plain": [
       "            date  prod_solaire\n",
       "0     2016-09-01     77.163310\n",
       "1     2016-09-02     72.371632\n",
       "2     2016-09-03     31.906049\n",
       "3     2016-09-04     22.494454\n",
       "4     2016-09-05     68.105196\n",
       "...          ...           ...\n",
       "3307  2025-09-25     50.075232\n",
       "3308  2025-09-26     44.815599\n",
       "3309  2025-09-27     46.526905\n",
       "3310  2025-09-28           NaN\n",
       "3311  2025-09-29           NaN\n",
       "\n",
       "[3312 rows x 2 columns]"
      ]
     },
     "execution_count": 4,
     "metadata": {},
     "output_type": "execute_result"
    }
   ],
   "source": [
    "import pandas as pd\n",
    "import requests\n",
    "import numpy as np\n",
    "import datetime as dt\n",
    "\n",
    "df = pd.read_csv(\"data/prod_solaire.csv\")\n",
    "\n",
    "df"
   ]
  },
  {
   "cell_type": "code",
   "execution_count": null,
   "id": "e786f10a",
   "metadata": {},
   "outputs": [
    {
     "name": "stdout",
     "output_type": "stream",
     "text": [
      "Please enter any of types in this list : ['hydro', 'eolienne', 'solar'] \n"
     ]
    }
   ],
   "source": [
    "df.loc[(df.iloc[:, 1] < 100)  & (df.iloc[:, 1] > 0)]\n",
    "types = [\"hydro\", \"eolienne\", \"solar\"]\n",
    "print(f\"Please enter any of types in this list : {types} \")"
   ]
  },
  {
   "cell_type": "code",
   "execution_count": 91,
   "id": "e7d6e963",
   "metadata": {},
   "outputs": [
    {
     "data": {
      "application/vnd.microsoft.datawrangler.viewer.v0+json": {
       "columns": [
        {
         "name": "index",
         "rawType": "object",
         "type": "string"
        },
        {
         "name": "prod_solaire",
         "rawType": "float64",
         "type": "float"
        }
       ],
       "ref": "940be8a3-db32-48bc-a445-1debaccda0a3",
       "rows": [
        [
         "count",
         "3310.0"
        ],
        [
         "mean",
         "47.79764327190527"
        ],
        [
         "std",
         "30.22845866260393"
        ],
        [
         "min",
         "0.0"
        ],
        [
         "25%",
         "23.341965145655863"
        ],
        [
         "50%",
         "43.82863425860319"
        ],
        [
         "75%",
         "71.486125897211"
        ],
        [
         "max",
         "551.9080831173968"
        ]
       ],
       "shape": {
        "columns": 1,
        "rows": 8
       }
      },
      "text/html": [
       "<div>\n",
       "<style scoped>\n",
       "    .dataframe tbody tr th:only-of-type {\n",
       "        vertical-align: middle;\n",
       "    }\n",
       "\n",
       "    .dataframe tbody tr th {\n",
       "        vertical-align: top;\n",
       "    }\n",
       "\n",
       "    .dataframe thead th {\n",
       "        text-align: right;\n",
       "    }\n",
       "</style>\n",
       "<table border=\"1\" class=\"dataframe\">\n",
       "  <thead>\n",
       "    <tr style=\"text-align: right;\">\n",
       "      <th></th>\n",
       "      <th>prod_solaire</th>\n",
       "    </tr>\n",
       "  </thead>\n",
       "  <tbody>\n",
       "    <tr>\n",
       "      <th>count</th>\n",
       "      <td>3310.000000</td>\n",
       "    </tr>\n",
       "    <tr>\n",
       "      <th>mean</th>\n",
       "      <td>47.797643</td>\n",
       "    </tr>\n",
       "    <tr>\n",
       "      <th>std</th>\n",
       "      <td>30.228459</td>\n",
       "    </tr>\n",
       "    <tr>\n",
       "      <th>min</th>\n",
       "      <td>0.000000</td>\n",
       "    </tr>\n",
       "    <tr>\n",
       "      <th>25%</th>\n",
       "      <td>23.341965</td>\n",
       "    </tr>\n",
       "    <tr>\n",
       "      <th>50%</th>\n",
       "      <td>43.828634</td>\n",
       "    </tr>\n",
       "    <tr>\n",
       "      <th>75%</th>\n",
       "      <td>71.486126</td>\n",
       "    </tr>\n",
       "    <tr>\n",
       "      <th>max</th>\n",
       "      <td>551.908083</td>\n",
       "    </tr>\n",
       "  </tbody>\n",
       "</table>\n",
       "</div>"
      ],
      "text/plain": [
       "       prod_solaire\n",
       "count   3310.000000\n",
       "mean      47.797643\n",
       "std       30.228459\n",
       "min        0.000000\n",
       "25%       23.341965\n",
       "50%       43.828634\n",
       "75%       71.486126\n",
       "max      551.908083"
      ]
     },
     "execution_count": 91,
     "metadata": {},
     "output_type": "execute_result"
    }
   ],
   "source": [
    "df.describe()"
   ]
  },
  {
   "cell_type": "code",
   "execution_count": 93,
   "id": "b290ece7",
   "metadata": {},
   "outputs": [
    {
     "data": {
      "application/vnd.microsoft.datawrangler.viewer.v0+json": {
       "columns": [
        {
         "name": "index",
         "rawType": "object",
         "type": "string"
        },
        {
         "name": "0",
         "rawType": "int64",
         "type": "integer"
        }
       ],
       "ref": "e050b952-61e0-4484-8a87-d6ce9871d253",
       "rows": [
        [
         "date",
         "0"
        ],
        [
         "prod_solaire",
         "2"
        ]
       ],
       "shape": {
        "columns": 1,
        "rows": 2
       }
      },
      "text/plain": [
       "date            0\n",
       "prod_solaire    2\n",
       "dtype: int64"
      ]
     },
     "metadata": {},
     "output_type": "display_data"
    }
   ],
   "source": [
    "df_missing = df.isnull().sum()\n",
    "\n",
    "display(df_missing)\n",
    "\n",
    "df_ext = df.sort_values(by=[\"prod_solaire\"], ascending=True)\n"
   ]
  },
  {
   "cell_type": "code",
   "execution_count": 98,
   "id": "a3168ae8",
   "metadata": {},
   "outputs": [
    {
     "data": {
      "application/vnd.microsoft.datawrangler.viewer.v0+json": {
       "columns": [
        {
         "name": "date",
         "rawType": "int32",
         "type": "integer"
        },
        {
         "name": "count",
         "rawType": "int64",
         "type": "integer"
        }
       ],
       "ref": "2ce4fe36-4d27-4b77-aab5-c6d360c2362c",
       "rows": [
        [
         "3",
         "474"
        ],
        [
         "4",
         "474"
        ],
        [
         "5",
         "474"
        ],
        [
         "0",
         "473"
        ],
        [
         "2",
         "473"
        ],
        [
         "6",
         "472"
        ],
        [
         "1",
         "472"
        ]
       ],
       "shape": {
        "columns": 1,
        "rows": 7
       }
      },
      "text/plain": [
       "date\n",
       "3    474\n",
       "4    474\n",
       "5    474\n",
       "0    473\n",
       "2    473\n",
       "6    472\n",
       "1    472\n",
       "Name: count, dtype: int64"
      ]
     },
     "execution_count": 98,
     "metadata": {},
     "output_type": "execute_result"
    }
   ],
   "source": [
    "df[\"date\"] = pd.to_datetime(df[\"date\"])\n",
    "df.loc[df[\"prod_solaire\"] > 0].sort_values(by=\"prod_solaire\")\n",
    "\n",
    "df[\"date\"].dt.dayofweek.value_counts()\n",
    "\n"
   ]
  },
  {
   "cell_type": "code",
   "execution_count": null,
   "id": "1f646981",
   "metadata": {},
   "outputs": [
    {
     "name": "stdout",
     "output_type": "stream",
     "text": [
      "Coordinates: 43.620384216308594°N 3.930722951889038°E\n",
      "Elevation: 58.0 m asl\n",
      "Timezone difference to GMT+0: 0s\n",
      "\n",
      "Hourly data\n",
      " [0. 0. 0. ... 0. 0. 0.]\n",
      "<class 'pandas.core.series.Series'>\n",
      "RangeIndex: 79488 entries, 0 to 79487\n",
      "Series name: global_tilted_irradiance\n",
      "Non-Null Count  Dtype  \n",
      "--------------  -----  \n",
      "79488 non-null  float32\n",
      "dtypes: float32(1)\n",
      "memory usage: 310.6 KB\n",
      "None\n",
      "count    79488.000000\n",
      "mean       207.878891\n",
      "std        296.646332\n",
      "min          0.000000\n",
      "25%          0.000000\n",
      "50%          8.355879\n",
      "75%        383.465149\n",
      "max       1074.020630\n",
      "Name: global_tilted_irradiance, dtype: float64\n"
     ]
    }
   ],
   "source": [
    "import openmeteo_requests\n",
    "\n",
    "import pandas as pd\n",
    "import requests_cache\n",
    "from retry_requests import retry\n",
    "\n",
    "# Setup the Open-Meteo API client with cache and retry on error\n",
    "cache_session = requests_cache.CachedSession('.cache', expire_after = -1)\n",
    "retry_session = retry(cache_session, retries = 5, backoff_factor = 0.2)\n",
    "openmeteo = openmeteo_requests.Client(session = retry_session)\n",
    "\n",
    "# Make sure all required weather variables are listed here\n",
    "# The order of variables in hourly or daily is important to assign them correctly below\n",
    "url = \"https://archive-api.open-meteo.com/v1/archive\"\n",
    "params = {\n",
    "\t\"latitude\": 43.6109,\n",
    "\t\"longitude\": 3.8763,\n",
    "\t\"start_date\": \"2016-09-01\",\n",
    "\t\"end_date\": \"2025-09-25\",\n",
    "\t\"hourly\": [\"global_tilted_irradiance\", \"temperature_2m\", \"relative_humidity_2m\", \"precipitation\", \"wind_speed_10m\", \"wind_direction_10m\"],\n",
    "\t\"tilt\": 35,\n",
    "}\n",
    "responses = openmeteo.weather_api(url, params=params)\n",
    "\n",
    "# Process first location. Add a for-loop for multiple locations or weather models\n",
    "response = responses[0]\n",
    "print(f\"Coordinates: {response.Latitude()}°N {response.Longitude()}°E\")\n",
    "print(f\"Elevation: {response.Elevation()} m asl\")\n",
    "print(f\"Timezone difference to GMT+0: {response.UtcOffsetSeconds()}s\")\n",
    "\n",
    "# Process hourly data. The order of variables needs to be the same as requested.\n",
    "hourly = response.Hourly()\n",
    "hourly_global_tilted_irradiance = hourly.Variables(0).ValuesAsNumpy()\n",
    "hourly_temperature_2m = hourly.Variables(1).ValuesAsNumpy()\n",
    "hourly_relative_humidity_2m = hourly.Variables(2).ValuesAsNumpy()\n",
    "hourly_precipitation = hourly.Variables(3).ValuesAsNumpy()\n",
    "hourly_wind_speed_10m = hourly.Variables(4).ValuesAsNumpy()\n",
    "hourly_wind_direction_10m = hourly.Variables(5).ValuesAsNumpy()\n",
    "\n",
    "hourly_data = {\"date\": pd.date_range(\n",
    "\tstart = pd.to_datetime(hourly.Time(), unit = \"s\", utc = True),\n",
    "\tend = pd.to_datetime(hourly.TimeEnd(), unit = \"s\", utc = True),\n",
    "\tfreq = pd.Timedelta(seconds = hourly.Interval()),\n",
    "\tinclusive = \"left\"\n",
    ")}\n",
    "\n",
    "hourly_data[\"global_tilted_irradiance\"] = hourly_global_tilted_irradiance\n",
    "hourly_data[\"temperature_2m\"] = hourly_temperature_2m\n",
    "hourly_data[\"relative_humidity_2m\"] = hourly_relative_humidity_2m\n",
    "hourly_data[\"precipitation\"] = hourly_precipitation\n",
    "hourly_data[\"wind_speed_10m\"] = hourly_wind_speed_10m\n",
    "hourly_data[\"wind_direction_10m\"] = hourly_wind_direction_10m\n",
    "\n",
    "hourly_dataframe = pd.DataFrame(data = hourly_data)\n",
    "print(\"\\nHourly data\\n\", hourly_global_tilted_irradiance)\n",
    "gti_df = hourly_dataframe[\"global_tilted_irradiance\"]\n",
    "\n",
    "print(gti_df.info())\n",
    "print(gti_df.describe())"
   ]
  },
  {
   "cell_type": "code",
   "execution_count": 80,
   "id": "ee2a0c0f",
   "metadata": {},
   "outputs": [
    {
     "data": {
      "application/vnd.microsoft.datawrangler.viewer.v0+json": {
       "columns": [
        {
         "name": "index",
         "rawType": "int64",
         "type": "integer"
        },
        {
         "name": "date",
         "rawType": "object",
         "type": "string"
        },
        {
         "name": "prod_hydro",
         "rawType": "float64",
         "type": "float"
        }
       ],
       "ref": "3aceb12f-2fd6-4c08-9547-8dc935aa1790",
       "rows": [
        [
         "0",
         "2022-07-07T00:00:00Z",
         "100.8238659464952"
        ],
        [
         "1",
         "2022-07-08T00:00:00Z",
         "111.46747529900075"
        ],
        [
         "2",
         "2022-07-09T00:00:00Z",
         "196.4341685705743"
        ],
        [
         "3",
         "2022-07-10T00:00:00Z",
         "200.0"
        ],
        [
         "4",
         "2022-07-11T00:00:00Z",
         "200.0"
        ],
        [
         "5",
         "2022-07-12T00:00:00Z",
         "198.1027959405796"
        ],
        [
         "6",
         "2022-07-14T00:00:00Z",
         "155.95562896955514"
        ],
        [
         "7",
         "2022-07-15T00:00:00Z",
         "181.9727672231219"
        ],
        [
         "8",
         "2022-07-16T00:00:00Z",
         "182.0848584600398"
        ],
        [
         "9",
         "2022-07-17T00:00:00Z",
         "200.0"
        ],
        [
         "10",
         "2022-07-18T00:00:00Z",
         "200.0"
        ],
        [
         "11",
         "2022-07-19T00:00:00Z",
         "150.93362401793505"
        ],
        [
         "12",
         "2022-07-20T00:00:00Z",
         "200.0"
        ],
        [
         "13",
         "2022-07-21T00:00:00Z",
         "184.30168589258528"
        ],
        [
         "14",
         "2022-07-22T00:00:00Z",
         "133.69110095317097"
        ],
        [
         "15",
         "2022-07-24T00:00:00Z",
         "174.58306917020818"
        ],
        [
         "16",
         "2022-07-25T00:00:00Z",
         "200.0"
        ],
        [
         "17",
         "2022-07-26T00:00:00Z",
         "200.0"
        ],
        [
         "18",
         "2022-07-27T00:00:00Z",
         "200.0"
        ],
        [
         "19",
         "2022-07-28T00:00:00Z",
         "200.0"
        ],
        [
         "20",
         "2022-07-29T00:00:00Z",
         "200.0"
        ],
        [
         "21",
         "2022-07-30T00:00:00Z",
         "200.0"
        ],
        [
         "22",
         "2022-07-31T00:00:00Z",
         "200.0"
        ],
        [
         "23",
         "2022-08-01T00:00:00Z",
         "200.0"
        ],
        [
         "24",
         "2022-08-02T00:00:00Z",
         "200.0"
        ],
        [
         "25",
         "2022-08-03T00:00:00Z",
         "200.0"
        ],
        [
         "26",
         "2022-08-04T00:00:00Z",
         "200.0"
        ],
        [
         "27",
         "2022-08-05T00:00:00Z",
         "200.0"
        ],
        [
         "28",
         "2022-08-06T00:00:00Z",
         "200.0"
        ],
        [
         "29",
         "2022-08-07T00:00:00Z",
         "200.0"
        ],
        [
         "30",
         "2022-08-08T00:00:00Z",
         "200.0"
        ],
        [
         "31",
         "2022-08-09T00:00:00Z",
         "200.0"
        ],
        [
         "32",
         "2022-08-10T00:00:00Z",
         "200.0"
        ],
        [
         "33",
         "2022-08-11T00:00:00Z",
         "200.0"
        ],
        [
         "34",
         "2022-08-12T00:00:00Z",
         "200.0"
        ],
        [
         "35",
         "2022-08-13T00:00:00Z",
         "200.0"
        ],
        [
         "36",
         "2022-08-14T00:00:00Z",
         "200.0"
        ],
        [
         "37",
         "2022-08-15T00:00:00Z",
         "200.0"
        ],
        [
         "38",
         "2022-08-16T00:00:00Z",
         "200.0"
        ],
        [
         "39",
         "2022-08-17T00:00:00Z",
         "200.0"
        ],
        [
         "40",
         "2022-08-18T00:00:00Z",
         "200.0"
        ],
        [
         "41",
         "2022-08-19T00:00:00Z",
         "200.0"
        ],
        [
         "42",
         "2022-08-20T00:00:00Z",
         "200.0"
        ],
        [
         "43",
         "2022-08-21T00:00:00Z",
         "200.0"
        ],
        [
         "44",
         "2022-08-22T00:00:00Z",
         "200.0"
        ],
        [
         "45",
         "2022-08-23T00:00:00Z",
         "200.0"
        ],
        [
         "46",
         "2022-08-24T00:00:00Z",
         "200.0"
        ],
        [
         "47",
         "2022-08-25T00:00:00Z",
         "200.0"
        ],
        [
         "48",
         "2022-08-26T00:00:00Z",
         "200.0"
        ],
        [
         "49",
         "2022-08-27T00:00:00Z",
         "200.0"
        ]
       ],
       "shape": {
        "columns": 2,
        "rows": 920
       }
      },
      "text/html": [
       "<div>\n",
       "<style scoped>\n",
       "    .dataframe tbody tr th:only-of-type {\n",
       "        vertical-align: middle;\n",
       "    }\n",
       "\n",
       "    .dataframe tbody tr th {\n",
       "        vertical-align: top;\n",
       "    }\n",
       "\n",
       "    .dataframe thead th {\n",
       "        text-align: right;\n",
       "    }\n",
       "</style>\n",
       "<table border=\"1\" class=\"dataframe\">\n",
       "  <thead>\n",
       "    <tr style=\"text-align: right;\">\n",
       "      <th></th>\n",
       "      <th>date</th>\n",
       "      <th>prod_hydro</th>\n",
       "    </tr>\n",
       "  </thead>\n",
       "  <tbody>\n",
       "    <tr>\n",
       "      <th>0</th>\n",
       "      <td>2022-07-07T00:00:00Z</td>\n",
       "      <td>100.823866</td>\n",
       "    </tr>\n",
       "    <tr>\n",
       "      <th>1</th>\n",
       "      <td>2022-07-08T00:00:00Z</td>\n",
       "      <td>111.467475</td>\n",
       "    </tr>\n",
       "    <tr>\n",
       "      <th>2</th>\n",
       "      <td>2022-07-09T00:00:00Z</td>\n",
       "      <td>196.434169</td>\n",
       "    </tr>\n",
       "    <tr>\n",
       "      <th>3</th>\n",
       "      <td>2022-07-10T00:00:00Z</td>\n",
       "      <td>200.000000</td>\n",
       "    </tr>\n",
       "    <tr>\n",
       "      <th>4</th>\n",
       "      <td>2022-07-11T00:00:00Z</td>\n",
       "      <td>200.000000</td>\n",
       "    </tr>\n",
       "    <tr>\n",
       "      <th>...</th>\n",
       "      <td>...</td>\n",
       "      <td>...</td>\n",
       "    </tr>\n",
       "    <tr>\n",
       "      <th>915</th>\n",
       "      <td>2025-04-01T00:00:00Z</td>\n",
       "      <td>200.000000</td>\n",
       "    </tr>\n",
       "    <tr>\n",
       "      <th>916</th>\n",
       "      <td>2025-05-01T00:00:00Z</td>\n",
       "      <td>200.000000</td>\n",
       "    </tr>\n",
       "    <tr>\n",
       "      <th>917</th>\n",
       "      <td>2025-06-01T00:00:00Z</td>\n",
       "      <td>200.000000</td>\n",
       "    </tr>\n",
       "    <tr>\n",
       "      <th>918</th>\n",
       "      <td>2025-07-01T00:00:00Z</td>\n",
       "      <td>200.000000</td>\n",
       "    </tr>\n",
       "    <tr>\n",
       "      <th>919</th>\n",
       "      <td>2025-08-01T00:00:00Z</td>\n",
       "      <td>200.000000</td>\n",
       "    </tr>\n",
       "  </tbody>\n",
       "</table>\n",
       "<p>920 rows × 2 columns</p>\n",
       "</div>"
      ],
      "text/plain": [
       "                     date  prod_hydro\n",
       "0    2022-07-07T00:00:00Z  100.823866\n",
       "1    2022-07-08T00:00:00Z  111.467475\n",
       "2    2022-07-09T00:00:00Z  196.434169\n",
       "3    2022-07-10T00:00:00Z  200.000000\n",
       "4    2022-07-11T00:00:00Z  200.000000\n",
       "..                    ...         ...\n",
       "915  2025-04-01T00:00:00Z  200.000000\n",
       "916  2025-05-01T00:00:00Z  200.000000\n",
       "917  2025-06-01T00:00:00Z  200.000000\n",
       "918  2025-07-01T00:00:00Z  200.000000\n",
       "919  2025-08-01T00:00:00Z  200.000000\n",
       "\n",
       "[920 rows x 2 columns]"
      ]
     },
     "metadata": {},
     "output_type": "display_data"
    },
    {
     "data": {
      "application/vnd.microsoft.datawrangler.viewer.v0+json": {
       "columns": [
        {
         "name": "index",
         "rawType": "int64",
         "type": "integer"
        },
        {
         "name": "date_obs_elab",
         "rawType": "object",
         "type": "string"
        },
        {
         "name": "prod_hydro",
         "rawType": "float64",
         "type": "float"
        }
       ],
       "ref": "a999cdee-49dd-4057-b41f-c6776343dd41",
       "rows": [
        [
         "0",
         "2022-08-01",
         "200.0"
        ],
        [
         "1",
         "2022-09-01",
         "200.0"
        ],
        [
         "2",
         "2022-10-01",
         "200.0"
        ],
        [
         "3",
         "2022-11-01",
         "200.0"
        ],
        [
         "4",
         "2022-12-01",
         "0.0"
        ],
        [
         "5",
         "2023-01-01",
         "200.0"
        ],
        [
         "6",
         "2023-02-01",
         "200.0"
        ],
        [
         "7",
         "2023-03-01",
         "200.0"
        ],
        [
         "8",
         "2023-04-01",
         "200.0"
        ],
        [
         "9",
         "2023-06-01",
         "200.0"
        ],
        [
         "10",
         "2023-07-01",
         "200.0"
        ],
        [
         "11",
         "2023-08-01",
         "200.0"
        ],
        [
         "12",
         "2023-09-01",
         "200.0"
        ],
        [
         "13",
         "2023-10-01",
         "200.0"
        ],
        [
         "14",
         "2023-11-01",
         "200.0"
        ],
        [
         "15",
         "2023-12-01",
         "200.0"
        ],
        [
         "16",
         "2024-01-01",
         "200.0"
        ],
        [
         "17",
         "2024-02-01",
         "200.0"
        ],
        [
         "18",
         "2024-03-01",
         "200.0"
        ],
        [
         "19",
         "2024-04-01",
         "200.0"
        ],
        [
         "20",
         "2024-05-01",
         "200.0"
        ],
        [
         "21",
         "2024-06-01",
         "200.0"
        ],
        [
         "22",
         "2024-07-01",
         "200.0"
        ],
        [
         "23",
         "2024-08-01",
         "200.0"
        ],
        [
         "24",
         "2024-09-01",
         "200.0"
        ],
        [
         "25",
         "2024-10-01",
         "200.0"
        ],
        [
         "26",
         "2024-11-01",
         "200.0"
        ],
        [
         "27",
         "2024-12-01",
         "200.0"
        ],
        [
         "28",
         "2025-01-01",
         "200.0"
        ],
        [
         "29",
         "2025-02-01",
         "200.0"
        ],
        [
         "30",
         "2025-03-01",
         "200.0"
        ],
        [
         "31",
         "2025-04-01",
         "200.0"
        ],
        [
         "32",
         "2025-05-01",
         "200.0"
        ],
        [
         "33",
         "2025-06-01",
         "200.0"
        ],
        [
         "34",
         "2025-07-01",
         "200.0"
        ],
        [
         "35",
         "2025-08-01",
         "200.0"
        ],
        [
         "36",
         "2022-07-07",
         "100.8238659464952"
        ],
        [
         "37",
         "2022-07-08",
         "111.46747529900075"
        ],
        [
         "38",
         "2022-07-09",
         "196.4341685705743"
        ],
        [
         "39",
         "2022-07-10",
         "200.0"
        ],
        [
         "40",
         "2022-07-11",
         "200.0"
        ],
        [
         "41",
         "2022-07-12",
         "198.1027959405796"
        ],
        [
         "42",
         "2022-07-13",
         "0.0"
        ],
        [
         "43",
         "2022-07-14",
         "155.95562896955514"
        ],
        [
         "44",
         "2022-07-15",
         "181.9727672231219"
        ],
        [
         "45",
         "2022-07-16",
         "182.0848584600398"
        ],
        [
         "46",
         "2022-07-17",
         "200.0"
        ],
        [
         "47",
         "2022-07-18",
         "200.0"
        ],
        [
         "48",
         "2022-07-19",
         "150.93362401793505"
        ],
        [
         "49",
         "2022-07-20",
         "200.0"
        ]
       ],
       "shape": {
        "columns": 2,
        "rows": 996
       }
      },
      "text/html": [
       "<div>\n",
       "<style scoped>\n",
       "    .dataframe tbody tr th:only-of-type {\n",
       "        vertical-align: middle;\n",
       "    }\n",
       "\n",
       "    .dataframe tbody tr th {\n",
       "        vertical-align: top;\n",
       "    }\n",
       "\n",
       "    .dataframe thead th {\n",
       "        text-align: right;\n",
       "    }\n",
       "</style>\n",
       "<table border=\"1\" class=\"dataframe\">\n",
       "  <thead>\n",
       "    <tr style=\"text-align: right;\">\n",
       "      <th></th>\n",
       "      <th>date_obs_elab</th>\n",
       "      <th>prod_hydro</th>\n",
       "    </tr>\n",
       "  </thead>\n",
       "  <tbody>\n",
       "    <tr>\n",
       "      <th>0</th>\n",
       "      <td>2022-08-01</td>\n",
       "      <td>200.0</td>\n",
       "    </tr>\n",
       "    <tr>\n",
       "      <th>1</th>\n",
       "      <td>2022-09-01</td>\n",
       "      <td>200.0</td>\n",
       "    </tr>\n",
       "    <tr>\n",
       "      <th>2</th>\n",
       "      <td>2022-10-01</td>\n",
       "      <td>200.0</td>\n",
       "    </tr>\n",
       "    <tr>\n",
       "      <th>3</th>\n",
       "      <td>2022-11-01</td>\n",
       "      <td>200.0</td>\n",
       "    </tr>\n",
       "    <tr>\n",
       "      <th>4</th>\n",
       "      <td>2022-12-01</td>\n",
       "      <td>0.0</td>\n",
       "    </tr>\n",
       "    <tr>\n",
       "      <th>...</th>\n",
       "      <td>...</td>\n",
       "      <td>...</td>\n",
       "    </tr>\n",
       "    <tr>\n",
       "      <th>991</th>\n",
       "      <td>2025-02-19</td>\n",
       "      <td>200.0</td>\n",
       "    </tr>\n",
       "    <tr>\n",
       "      <th>992</th>\n",
       "      <td>2025-02-20</td>\n",
       "      <td>200.0</td>\n",
       "    </tr>\n",
       "    <tr>\n",
       "      <th>993</th>\n",
       "      <td>2025-02-21</td>\n",
       "      <td>200.0</td>\n",
       "    </tr>\n",
       "    <tr>\n",
       "      <th>994</th>\n",
       "      <td>2025-02-22</td>\n",
       "      <td>0.0</td>\n",
       "    </tr>\n",
       "    <tr>\n",
       "      <th>995</th>\n",
       "      <td>2025-02-23</td>\n",
       "      <td>0.0</td>\n",
       "    </tr>\n",
       "  </tbody>\n",
       "</table>\n",
       "<p>996 rows × 2 columns</p>\n",
       "</div>"
      ],
      "text/plain": [
       "    date_obs_elab  prod_hydro\n",
       "0      2022-08-01       200.0\n",
       "1      2022-09-01       200.0\n",
       "2      2022-10-01       200.0\n",
       "3      2022-11-01       200.0\n",
       "4      2022-12-01         0.0\n",
       "..            ...         ...\n",
       "991    2025-02-19       200.0\n",
       "992    2025-02-20       200.0\n",
       "993    2025-02-21       200.0\n",
       "994    2025-02-22         0.0\n",
       "995    2025-02-23         0.0\n",
       "\n",
       "[996 rows x 2 columns]"
      ]
     },
     "metadata": {},
     "output_type": "display_data"
    }
   ],
   "source": [
    "TYPES = (\"hydro\", \"eolienne\", \"solaire\")\n",
    "import pandas as pd\n",
    "\n",
    "df = pd.read_csv(\"data/prod_hydro.csv\")\n",
    "\n",
    "def clean(df: pd.DataFrame, energy_type: str) -> pd.DataFrame:\n",
    "      df.iloc[:, 1] = df.iloc[:, 1].abs()\n",
    "      if energy_type not in TYPES:\n",
    "        print(f\"Please enter any of types in this list : {TYPES} \")\n",
    "      elif energy_type == \"hydro\":\n",
    "        df = df.loc[(df.iloc[:, 1] <= 200)  & (df.iloc[:, 1] > 0)].copy()\n",
    "        df = df.rename(columns={\"date_obs_elab\" : \"date\"})\n",
    "      elif energy_type == \"eolienne\":\n",
    "        df = df.loc[(df.iloc[:, 1] <= 100)  & (df.iloc[:, 1] > 0)].copy()\n",
    "      elif energy_type == \"solaire\":\n",
    "        df = df.loc[(df.iloc[:, 1] <= 100)  & (df.iloc[:, 1] > 0)].copy()\n",
    "        df.iloc[:, 1] = df.iloc[:, 1]*1.5\n",
    "      df = df.drop_duplicates(subset=\"date\", keep=\"last\")\n",
    "      df = df.sort_values(by=\"date\")\n",
    "      df[\"date\"] = pd.to_datetime(df[\"date\"])\n",
    "      df = df.dropna().reset_index(drop=True)\n",
    "      df[\"date\"] = df[\"date\"].dt.strftime(\"%Y-%m-%dT%H:%M:%SZ\")\n",
    "      return df\n",
    "\n",
    "df_clean = clean(df, \"hydro\")\n",
    "display(df_clean)\n",
    "display(df)\n",
    "\n",
    "# df_clean.loc[df_clean[\"prod_hydro\"].duplicated() == True]\n",
    "# df_clean\n"
   ]
  }
 ],
 "metadata": {
  "kernelspec": {
   "display_name": "production-enr",
   "language": "python",
   "name": "python3"
  },
  "language_info": {
   "codemirror_mode": {
    "name": "ipython",
    "version": 3
   },
   "file_extension": ".py",
   "mimetype": "text/x-python",
   "name": "python",
   "nbconvert_exporter": "python",
   "pygments_lexer": "ipython3",
   "version": "3.12.3"
  }
 },
 "nbformat": 4,
 "nbformat_minor": 5
}
